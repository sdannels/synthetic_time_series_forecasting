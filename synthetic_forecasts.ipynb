{
  "nbformat": 4,
  "nbformat_minor": 0,
  "metadata": {
    "colab": {
      "provenance": [],
      "mount_file_id": "1AALFZd_2jkQz7R0m2KYspRXo8FgD25xr",
      "authorship_tag": "ABX9TyPUZI22qmB9/QTQp0aOec2K",
      "include_colab_link": true
    },
    "kernelspec": {
      "name": "python3",
      "display_name": "Python 3"
    },
    "language_info": {
      "name": "python"
    },
    "gpuClass": "standard",
    "accelerator": "GPU"
  },
  "cells": [
    {
      "cell_type": "markdown",
      "metadata": {
        "id": "view-in-github",
        "colab_type": "text"
      },
      "source": [
        "<a href=\"https://colab.research.google.com/github/sdannels/synthetic_time_series_forecasting/blob/main/synthetic_forecasts.ipynb\" target=\"_parent\"><img src=\"https://colab.research.google.com/assets/colab-badge.svg\" alt=\"Open In Colab\"/></a>"
      ]
    },
    {
      "cell_type": "code",
      "execution_count": 1,
      "metadata": {
        "id": "lJWXgKfq-saW"
      },
      "outputs": [],
      "source": [
        "%%capture\n",
        "!pip install torch numpy pandas matplotlib scikit-learn fredapi statsmodels datetime keras math"
      ]
    },
    {
      "cell_type": "code",
      "source": [
        "import pandas as pd\n",
        "import numpy as np\n",
        "import math\n",
        "import statsmodels.api as sm\n",
        "import matplotlib.pyplot as plt\n",
        "import matplotlib.dates as md\n",
        "from statsmodels.tsa.ar_model import AutoReg, ar_select_order\n",
        "import datetime as dt\n",
        "import torch\n",
        "from keras.models import Sequential\n",
        "from keras.layers import LSTM\n",
        "from keras.layers import Dense\n",
        "from keras.layers import Reshape\n",
        "from keras.models import load_model\n",
        "#from gretel_synthetics.timeseries_dgan.dgan import DGAN\n",
        "#from gretel_synthetics.timeseries_dgan.config import DGANConfig, OutputType\n",
        "from sklearn.metrics import mean_squared_error, mean_absolute_percentage_error"
      ],
      "metadata": {
        "id": "43Ps4kCfS23Y"
      },
      "execution_count": 2,
      "outputs": []
    },
    {
      "cell_type": "code",
      "source": [
        "# read in economic data and convert to DateTime index\n",
        "df = pd.read_csv(\"/content/drive/MyDrive/Synthetic_data/fred_data\", index_col = 0)\n",
        "df.index = pd.DatetimeIndex(df.index)\n",
        "df.index.name = 'date'\n",
        "df = df.reset_index()\n",
        "# create lag of 1 and 10-year yield\n",
        "df['DGS1_lag'] = df['DGS1'].shift(1)\n",
        "df['DGS10_lag'] = df['DGS10'].shift(1)"
      ],
      "metadata": {
        "id": "zcjqDdR3TQjD"
      },
      "execution_count": 3,
      "outputs": []
    },
    {
      "cell_type": "code",
      "source": [
        "# function to plot forecasting results\n",
        "def plot_forecast_compare(compare_df, forecast_var_name, actual_var_name, title,\n",
        "                          RMSE = True, MAPE = True):\n",
        "  \"\"\"\n",
        "  compare_df is dataframe with forecasted, actual, and date values\n",
        "  forecast_var_name, actual_var_name are strings for column names in compare_df\n",
        "  title is a string for the title of the graph\n",
        "  RMSE and MAPE: True if want to output those statistics above graph\n",
        "  \"\"\"\n",
        "  # print RMSE\n",
        "  if RMSE == True:\n",
        "    model_rmse = math.sqrt(mean_squared_error(compare_df[actual_var_name], compare_df[forecast_var_name]))\n",
        "    print(f'RMSE: {model_rmse}')\n",
        "  \n",
        "  # print MAPE\n",
        "  if MAPE == True:\n",
        "    model_mape = mean_absolute_percentage_error(compare_df[actual_var_name], compare_df[forecast_var_name])*100\n",
        "    print(f'MAPE: {model_mape}')\n",
        "\n",
        "  # plot results\n",
        "  plt.plot(compare_df['date'], compare_df[actual_var_name], label = 'Actual')\n",
        "  plt.plot(compare_df['date'], compare_df[forecast_var_name], label = 'Forecast')\n",
        "  plt.title(title)\n",
        "  plt.legend()\n",
        "  plt.xticks(rotation = 45)\n",
        "  plt.show()"
      ],
      "metadata": {
        "id": "swU2EXzJJie_"
      },
      "execution_count": 4,
      "outputs": []
    },
    {
      "cell_type": "markdown",
      "source": [
        "# Autoregressive Model"
      ],
      "metadata": {
        "id": "v-oLHmngRCFh"
      }
    },
    {
      "cell_type": "code",
      "source": [
        "# set last date for training data and first date for forecasting (next day)\n",
        "last_train_date = '12-31-2016'\n",
        "start_forecast_date = dt.datetime.strptime(last_train_date, '%m-%d-%Y') + dt.timedelta(days = 3)\n",
        "start_forecast_date = start_forecast_date.strftime('%m-%d-%Y')\n",
        "end_forecast_date = '01-11-2023'\n",
        "\n",
        "# split up training and testing data\n",
        "train_df = df[df['date'] <= last_train_date]\n",
        "test_df = df[df['date'] > last_train_date]"
      ],
      "metadata": {
        "id": "Xnm0uvTISNtw"
      },
      "execution_count": 5,
      "outputs": []
    },
    {
      "cell_type": "markdown",
      "source": [
        "## 1-year Treasury Yield"
      ],
      "metadata": {
        "id": "jR7Tr4fiOkpe"
      }
    },
    {
      "cell_type": "code",
      "source": [
        "# choose optimal number of lags by BIC\n",
        "opt_mod = ar_select_order(train_df['DGS1'], exog = train_df['DGS10_lag'], \n",
        "                          maxlag=15, ic = 'bic', missing = 'drop', old_names = False)\n",
        "print(f'Chosen lags: {opt_mod.ar_lags}')\n",
        "# fit model with chosen number of lags and heteroskedastic-robust standard errors\n",
        "mod = AutoReg(train_df['DGS1'], exog = train_df['DGS10_lag'], lags = 13, trend = 'c',\n",
        "              missing = 'drop', old_names = False)\n",
        "res = mod.fit(cov_type=\"HC0\")\n",
        "print(res.summary())"
      ],
      "metadata": {
        "colab": {
          "base_uri": "https://localhost:8080/"
        },
        "id": "kkKyynOwMPwQ",
        "outputId": "c7b2eb51-18c3-4213-a664-39e19dc8fbbe"
      },
      "execution_count": 6,
      "outputs": [
        {
          "output_type": "stream",
          "name": "stderr",
          "text": [
            "/usr/local/lib/python3.8/dist-packages/statsmodels/tsa/base/tsa_model.py:578: ValueWarning: An unsupported index was provided and will be ignored when e.g. forecasting.\n",
            "  warnings.warn('An unsupported index was provided and will be'\n"
          ]
        },
        {
          "output_type": "stream",
          "name": "stdout",
          "text": [
            "Chosen lags: [ 1  2  3  4  5  6  7  8  9 10 11 12 13]\n",
            "                            AutoReg Model Results                             \n",
            "==============================================================================\n",
            "Dep. Variable:                   DGS1   No. Observations:                13734\n",
            "Model:                  AutoReg-X(13)   Log Likelihood               14775.944\n",
            "Method:               Conditional MLE   S.D. of innovations              0.082\n",
            "Date:                Thu, 19 Jan 2023   AIC                             -4.989\n",
            "Time:                        08:20:35   BIC                             -4.981\n",
            "Sample:                            13   HQIC                            -4.986\n",
            "                                13734                                         \n",
            "==============================================================================\n",
            "                 coef    std err          z      P>|z|      [0.025      0.975]\n",
            "------------------------------------------------------------------------------\n",
            "const          0.0008      0.002      0.325      0.745      -0.004       0.005\n",
            "DGS1.L1        1.1031      0.021     51.607      0.000       1.061       1.145\n",
            "DGS1.L2       -0.0793      0.032     -2.514      0.012      -0.141      -0.017\n",
            "DGS1.L3       -0.0414      0.030     -1.362      0.173      -0.101       0.018\n",
            "DGS1.L4        0.0459      0.032      1.452      0.146      -0.016       0.108\n",
            "DGS1.L5       -0.0207      0.034     -0.618      0.537      -0.087       0.045\n",
            "DGS1.L6        0.0131      0.032      0.409      0.683      -0.050       0.076\n",
            "DGS1.L7        0.0251      0.031      0.819      0.413      -0.035       0.085\n",
            "DGS1.L8       -0.0155      0.029     -0.527      0.598      -0.073       0.042\n",
            "DGS1.L9       -0.0022      0.031     -0.071      0.944      -0.063       0.059\n",
            "DGS1.L10       0.0035      0.032      0.110      0.913      -0.059       0.066\n",
            "DGS1.L11      -0.0570      0.032     -1.781      0.075      -0.120       0.006\n",
            "DGS1.L12       0.0567      0.032      1.750      0.080      -0.007       0.120\n",
            "DGS1.L13      -0.0323      0.021     -1.546      0.122      -0.073       0.009\n",
            "DGS10_lag      0.0006      0.001      0.642      0.521      -0.001       0.002\n",
            "                                    Roots                                     \n",
            "==============================================================================\n",
            "                   Real          Imaginary           Modulus         Frequency\n",
            "------------------------------------------------------------------------------\n",
            "AR.1            -1.2642           -0.0000j            1.2642           -0.5000\n",
            "AR.2            -1.0890           -0.6569j            1.2718           -0.4136\n",
            "AR.3            -1.0890           +0.6569j            1.2718            0.4136\n",
            "AR.4            -0.5637           -1.1798j            1.3075           -0.3209\n",
            "AR.5            -0.5637           +1.1798j            1.3075            0.3209\n",
            "AR.6             0.1054           -1.3386j            1.3428           -0.2375\n",
            "AR.7             0.1054           +1.3386j            1.3428            0.2375\n",
            "AR.8             1.0012           -0.0000j            1.0012           -0.0000\n",
            "AR.9             1.1935           -0.0000j            1.1935           -0.0000\n",
            "AR.10            1.1237           -0.8266j            1.3950           -0.1009\n",
            "AR.11            1.1237           +0.8266j            1.3950            0.1009\n",
            "AR.12            0.8369           -1.1890j            1.4540           -0.1524\n",
            "AR.13            0.8369           +1.1890j            1.4540            0.1524\n",
            "------------------------------------------------------------------------------\n"
          ]
        },
        {
          "output_type": "stream",
          "name": "stderr",
          "text": [
            "/usr/local/lib/python3.8/dist-packages/statsmodels/tsa/base/tsa_model.py:578: ValueWarning: An unsupported index was provided and will be ignored when e.g. forecasting.\n",
            "  warnings.warn('An unsupported index was provided and will be'\n",
            "/usr/local/lib/python3.8/dist-packages/statsmodels/tsa/base/tsa_model.py:578: ValueWarning: An unsupported index was provided and will be ignored when e.g. forecasting.\n",
            "  warnings.warn('An unsupported index was provided and will be'\n"
          ]
        }
      ]
    },
    {
      "cell_type": "code",
      "source": [
        "# find start and end index numbers\n",
        "df_index = df.copy()\n",
        "start_forecast_index = df_index.index[df_index['date'] == start_forecast_date][0]\n",
        "end_forecast_index = df_index.index[df_index['date'] == end_forecast_date][0]\n",
        "del df_index\n",
        "\n",
        "# forecast\n",
        "ar_preds = res.predict(start = start_forecast_index, end = end_forecast_index, \n",
        "                       exog_oos = test_df['DGS10_lag'], dynamic = False)"
      ],
      "metadata": {
        "colab": {
          "base_uri": "https://localhost:8080/"
        },
        "id": "dp827yutRntR",
        "outputId": "1f141aa9-6546-43f0-e68f-298f6eebfd9e"
      },
      "execution_count": 7,
      "outputs": [
        {
          "output_type": "stream",
          "name": "stderr",
          "text": [
            "/usr/local/lib/python3.8/dist-packages/statsmodels/tsa/base/tsa_model.py:376: ValueWarning: No supported index is available. Prediction results will be given with an integer index beginning at `start`.\n",
            "  warnings.warn('No supported index is available.'\n"
          ]
        }
      ]
    },
    {
      "cell_type": "code",
      "source": [
        "# compare forecasts to actuals\n",
        "actuals = df.loc[(df['date'] >= start_forecast_date) & (df['date'] <= end_forecast_date), 'DGS1']\n",
        "actuals_df = df.loc[(df['date'] >= start_forecast_date) & (df['date'] <= end_forecast_date), ['date', 'DGS1']]\n",
        "ar_compare = pd.concat([actuals_df, ar_preds], axis = 1)\n",
        "ar_compare.columns = ['date', 'actual', 'forecast']\n",
        "\n",
        "plot_forecast_compare(ar_compare,\n",
        "                      forecast_var_name = 'forecast', actual_var_name = 'actual',\n",
        "                      title = 'AR Model Forecasting Performance - 1-year Yield')"
      ],
      "metadata": {
        "colab": {
          "base_uri": "https://localhost:8080/",
          "height": 332
        },
        "id": "F9-rZQORoKC6",
        "outputId": "81060014-6c46-4447-e3d6-81597656cbc5"
      },
      "execution_count": 8,
      "outputs": [
        {
          "output_type": "stream",
          "name": "stdout",
          "text": [
            "RMSE: 1.2093689916881336\n",
            "MAPE: 535.1963216815966\n"
          ]
        },
        {
          "output_type": "display_data",
          "data": {
            "text/plain": [
              "<Figure size 432x288 with 1 Axes>"
            ],
            "image/png": "[encoded data removed]"
          },
          "metadata": {
            "needs_background": "light"
          }
        }
      ]
    },
    {
      "cell_type": "markdown",
      "source": [
        "## 10-year Treasury Yield"
      ],
      "metadata": {
        "id": "TFeX1xUvOqEl"
      }
    },
    {
      "cell_type": "code",
      "source": [
        "# choose optimal number of lags by BIC\n",
        "opt_mod10 = ar_select_order(train_df['DGS10'], exog = train_df['DGS1_lag'], \n",
        "                          maxlag=15, ic = 'bic', missing = 'drop', old_names = False)\n",
        "print(f'Chosen lags: {opt_mod10.ar_lags}')\n",
        "# fit model with chosen number of lags and heteroskedastic-robust standard errors\n",
        "mod10 = AutoReg(train_df['DGS10'], exog = train_df['DGS1_lag'], lags = 2, trend = 'c',\n",
        "              missing = 'drop', old_names = False)\n",
        "res10 = mod10.fit(cov_type=\"HC0\")\n",
        "print(res10.summary())"
      ],
      "metadata": {
        "colab": {
          "base_uri": "https://localhost:8080/"
        },
        "id": "jWB-Zt73OpL9",
        "outputId": "2207858c-7d41-4721-d1da-505d0b929d29"
      },
      "execution_count": 9,
      "outputs": [
        {
          "output_type": "stream",
          "name": "stdout",
          "text": [
            "Chosen lags: [1 2]\n",
            "                            AutoReg Model Results                             \n",
            "==============================================================================\n",
            "Dep. Variable:                  DGS10   No. Observations:                13734\n",
            "Model:                   AutoReg-X(2)   Log Likelihood               17774.416\n",
            "Method:               Conditional MLE   S.D. of innovations              0.066\n",
            "Date:                Thu, 19 Jan 2023   AIC                             -5.426\n",
            "Time:                        08:20:45   BIC                             -5.423\n",
            "Sample:                             2   HQIC                            -5.425\n",
            "                                13734                                         \n",
            "==============================================================================\n",
            "                 coef    std err          z      P>|z|      [0.025      0.975]\n",
            "------------------------------------------------------------------------------\n",
            "const          0.0040      0.002      2.203      0.028       0.000       0.008\n",
            "DGS10.L1       1.0685      0.015     70.076      0.000       1.039       1.098\n",
            "DGS10.L2      -0.0703      0.015     -4.602      0.000      -0.100      -0.040\n",
            "DGS1_lag       0.0014      0.001      2.265      0.023       0.000       0.003\n",
            "                                    Roots                                    \n",
            "=============================================================================\n",
            "                  Real          Imaginary           Modulus         Frequency\n",
            "-----------------------------------------------------------------------------\n",
            "AR.1            1.0019           +0.0000j            1.0019            0.0000\n",
            "AR.2           14.2027           +0.0000j           14.2027            0.0000\n",
            "-----------------------------------------------------------------------------\n"
          ]
        },
        {
          "output_type": "stream",
          "name": "stderr",
          "text": [
            "/usr/local/lib/python3.8/dist-packages/statsmodels/tsa/base/tsa_model.py:578: ValueWarning: An unsupported index was provided and will be ignored when e.g. forecasting.\n",
            "  warnings.warn('An unsupported index was provided and will be'\n",
            "/usr/local/lib/python3.8/dist-packages/statsmodels/tsa/base/tsa_model.py:578: ValueWarning: An unsupported index was provided and will be ignored when e.g. forecasting.\n",
            "  warnings.warn('An unsupported index was provided and will be'\n",
            "/usr/local/lib/python3.8/dist-packages/statsmodels/tsa/base/tsa_model.py:578: ValueWarning: An unsupported index was provided and will be ignored when e.g. forecasting.\n",
            "  warnings.warn('An unsupported index was provided and will be'\n"
          ]
        }
      ]
    },
    {
      "cell_type": "code",
      "source": [
        "# forecast\n",
        "ar_preds_10 = res10.predict(start = start_forecast_index, end = end_forecast_index, \n",
        "                            exog_oos = test_df['DGS1_lag'], dynamic = False)"
      ],
      "metadata": {
        "colab": {
          "base_uri": "https://localhost:8080/"
        },
        "id": "Yr7vGJe6PlbZ",
        "outputId": "7bf6a769-5d1b-47d2-a0c4-0ad52fa2efab"
      },
      "execution_count": 10,
      "outputs": [
        {
          "output_type": "stream",
          "name": "stderr",
          "text": [
            "/usr/local/lib/python3.8/dist-packages/statsmodels/tsa/base/tsa_model.py:376: ValueWarning: No supported index is available. Prediction results will be given with an integer index beginning at `start`.\n",
            "  warnings.warn('No supported index is available.'\n"
          ]
        }
      ]
    },
    {
      "cell_type": "code",
      "source": [
        "# compare forecasts to actuals\n",
        "actuals_df10 = df.loc[(df['date'] >= start_forecast_date) & (df['date'] <= end_forecast_date), ['date', 'DGS10']]\n",
        "ar_compare10 = pd.concat([actuals_df10, ar_preds_10], axis = 1)\n",
        "ar_compare10.columns = ['date', 'actual', 'forecast']\n",
        "\n",
        "plot_forecast_compare(ar_compare10,\n",
        "                      forecast_var_name = 'forecast', actual_var_name = 'actual',\n",
        "                      title = 'AR Model Forecasting Performance - 10-year Yield')"
      ],
      "metadata": {
        "colab": {
          "base_uri": "https://localhost:8080/",
          "height": 332
        },
        "id": "weNLs6JYPyXT",
        "outputId": "36f3d979-f293-4687-8b06-718374166142"
      },
      "execution_count": 11,
      "outputs": [
        {
          "output_type": "stream",
          "name": "stdout",
          "text": [
            "RMSE: 1.3037903165314702\n",
            "MAPE: 85.31142329159722\n"
          ]
        },
        {
          "output_type": "display_data",
          "data": {
            "text/plain": [
              "<Figure size 432x288 with 1 Axes>"
            ],
            "image/png": "[encoded data removed]"
          },
          "metadata": {
            "needs_background": "light"
          }
        }
      ]
    },
    {
      "cell_type": "markdown",
      "source": [
        "# LSTM Neural Network (Real Data)\n",
        "\n",
        "Parts of code adapted from examples in: https://machinelearningmastery.com/how-to-develop-lstm-models-for-time-series-forecasting/"
      ],
      "metadata": {
        "id": "TuwWFi760X00"
      }
    },
    {
      "cell_type": "code",
      "source": [
        "# function to reformat data from df to numpy array\n",
        "def df_to_np(df, cols):\n",
        "  \"\"\"\n",
        "    df: pandas DataFrame\n",
        "    cols = list of column names from df to include\n",
        "  \"\"\"\n",
        "  data = df[cols]\n",
        "  data = data.to_numpy()\n",
        "  return data\n",
        "\n",
        "# function to split data into samples for NN\n",
        "def split_NN_samples(data, n_steps):\n",
        "  X, y = list(), list()\n",
        "  for i in range(len(data)):\n",
        "    # find the end of this pattern\n",
        "    end_ix = i + n_steps\n",
        "    # check if we are beyond the dataset\n",
        "    if end_ix > len(data)-1:\n",
        "      break\n",
        "    # gather input and output parts of the pattern\n",
        "    seq_x, seq_y = data[i:end_ix, :], data[end_ix, :]\n",
        "    X.append(seq_x)\n",
        "    y.append(seq_y)\n",
        "  return np.array(X), np.array(y)"
      ],
      "metadata": {
        "id": "sP-rpD_pPVD4"
      },
      "execution_count": 12,
      "outputs": []
    },
    {
      "cell_type": "code",
      "source": [
        "# select features from df and # of steps for each sample\n",
        "feature_cols = ['DGS1', 'DGS10']\n",
        "n_steps = 25\n",
        "\n",
        "# format training data\n",
        "train_data = df_to_np(train_df, feature_cols)\n",
        "train_x, train_y = split_NN_samples(data = train_data, n_steps = n_steps)\n",
        "# train_x shape is (# of samples, # of steps, # of features)\n",
        "print(train_x.shape)\n",
        "n_features = train_x.shape[2]\n",
        "# train_y shape is (# of samples, # of features)\n",
        "print(train_y.shape)"
      ],
      "metadata": {
        "colab": {
          "base_uri": "https://localhost:8080/"
        },
        "id": "wHr5y2UJZKAp",
        "outputId": "d437b5c5-e833-4fc6-fc7d-e59ba797055d"
      },
      "execution_count": 13,
      "outputs": [
        {
          "output_type": "stream",
          "name": "stdout",
          "text": [
            "(13710, 25, 2)\n",
            "(13710, 2)\n"
          ]
        }
      ]
    },
    {
      "cell_type": "code",
      "source": [
        "# define model\n",
        "LSTM_model = Sequential()\n",
        "LSTM_model.add(LSTM(100, activation='tanh', return_sequences=True, input_shape=(n_steps, n_features)))\n",
        "LSTM_model.add(LSTM(100, activation='tanh'))\n",
        "LSTM_model.add(Dense(n_features))\n",
        "LSTM_model.compile(optimizer='adam', loss='mse')"
      ],
      "metadata": {
        "id": "bgNmLB6bjAQS"
      },
      "execution_count": null,
      "outputs": []
    },
    {
      "cell_type": "code",
      "source": [
        "# if true, load a pretrained model instead of training\n",
        "load_pretrain = True\n",
        "\n",
        "if load_pretrain == True:\n",
        "  LSTM_model = load_model(\"/content/drive/MyDrive/Models/LSTM_model\")\n",
        "else:\n",
        "  # train model\n",
        "  LSTM_model.fit(train_x, train_y, epochs = 200, verbose = 0)"
      ],
      "metadata": {
        "id": "Zk-YVwgvkfY_"
      },
      "execution_count": 14,
      "outputs": []
    },
    {
      "cell_type": "code",
      "source": [
        "# save model after training\n",
        "LSTM_model.save(\"/content/drive/MyDrive/Models/LSTM_model\")"
      ],
      "metadata": {
        "colab": {
          "base_uri": "https://localhost:8080/"
        },
        "id": "qoCA9cHRsBlG",
        "outputId": "1182717c-909c-4c49-aacd-7b7fbe2585f5"
      },
      "execution_count": 51,
      "outputs": [
        {
          "output_type": "stream",
          "name": "stderr",
          "text": [
            "WARNING:absl:Found untraced functions such as lstm_cell_layer_call_fn, lstm_cell_layer_call_and_return_conditional_losses, lstm_cell_1_layer_call_fn, lstm_cell_1_layer_call_and_return_conditional_losses while saving (showing 4 of 4). These functions will not be directly callable after loading.\n"
          ]
        }
      ]
    },
    {
      "cell_type": "code",
      "source": [
        "# format test data\n",
        "test_df = df[(df['date'] > last_train_date) & (df['date'] <= end_forecast_date)]\n",
        "test_data = df_to_np(test_df, feature_cols)\n",
        "test_x, test_y = split_NN_samples(data = test_data, n_steps = n_steps)\n",
        "# test_x shape is (# of samples, # of steps, # of features)\n",
        "print(test_x.shape)\n",
        "# test_y shape is (# of samples, # of features)\n",
        "print(test_y.shape)"
      ],
      "metadata": {
        "colab": {
          "base_uri": "https://localhost:8080/"
        },
        "id": "g6a8oUfgmXMJ",
        "outputId": "0603baf4-a535-4c24-d079-f4b749b483f8"
      },
      "execution_count": 15,
      "outputs": [
        {
          "output_type": "stream",
          "name": "stdout",
          "text": [
            "(1482, 25, 2)\n",
            "(1482, 2)\n"
          ]
        }
      ]
    },
    {
      "cell_type": "code",
      "source": [
        "# forecast on test data\n",
        "yhat = LSTM_model.predict(test_x, verbose=0)"
      ],
      "metadata": {
        "id": "gzK3UcUmlJw7"
      },
      "execution_count": 16,
      "outputs": []
    },
    {
      "cell_type": "code",
      "source": [
        "# format dates for comparison\n",
        "date_compare = test_df['date'].reset_index(drop = True)\n",
        "date_compare = date_compare[n_steps:].reset_index(drop = True)\n",
        "\n",
        "# create dataframe for comparing forecasts to actual\n",
        "LSTM_compare = pd.concat([pd.DataFrame(yhat), pd.DataFrame(test_y)], axis = 1)\n",
        "LSTM_compare = pd.concat([date_compare, LSTM_compare], axis = 1)\n",
        "LSTM_compare.columns = ['date', 'DGS1_pred', 'DGS10_pred', 'DGS1_actual', 'DGS10_actual']\n",
        "\n",
        "# plot results\n",
        "plot_forecast_compare(LSTM_compare, \n",
        "                      forecast_var_name = 'DGS1_pred', actual_var_name = 'DGS1_actual',\n",
        "                      title = 'LSTM Model Forecasting Performance - 1-year yield')\n",
        "\n",
        "plot_forecast_compare(LSTM_compare, \n",
        "                      forecast_var_name = 'DGS10_pred', actual_var_name = 'DGS10_actual',\n",
        "                      title = 'LSTM Model Forecasting Performance - 10-year yield')"
      ],
      "metadata": {
        "colab": {
          "base_uri": "https://localhost:8080/",
          "height": 646
        },
        "id": "t78-lhp5sb3O",
        "outputId": "d334f8db-ee33-4b2a-8f79-23bfa044d6b2"
      },
      "execution_count": 17,
      "outputs": [
        {
          "output_type": "stream",
          "name": "stdout",
          "text": [
            "RMSE: 0.0785175845406574\n",
            "MAPE: 18.482230576092583\n"
          ]
        },
        {
          "output_type": "display_data",
          "data": {
            "text/plain": [
              "<Figure size 432x288 with 1 Axes>"
            ],
            "image/png": "[encoded data removed]"
          },
          "metadata": {
            "needs_background": "light"
          }
        },
        {
          "output_type": "stream",
          "name": "stdout",
          "text": [
            "RMSE: 0.1730056764834313\n",
            "MAPE: 10.673743189138971\n"
          ]
        },
        {
          "output_type": "display_data",
          "data": {
            "text/plain": [
              "<Figure size 432x288 with 1 Axes>"
            ],
            "image/png": "[encoded data removed]"
          },
          "metadata": {
            "needs_background": "light"
          }
        }
      ]
    },
    {
      "cell_type": "markdown",
      "source": [
        "# LSTM Neural Network (Synthetic Data)\n",
        "\n",
        "This model is trained on synthetic data, but tested on the same real data as above."
      ],
      "metadata": {
        "id": "vSS9M5wT0TSS"
      }
    },
    {
      "cell_type": "code",
      "source": [
        "# load previously trained model\n",
        "#if torch.cuda.is_available() == True:\n",
        "#  model = DGAN.load('/content/drive/MyDrive/Models/DGAN_trained.pt')\n",
        "#else:\n",
        "#  model = DGAN.load('/content/drive/MyDrive/Models/DGAN_trained.pt', map_location = torch.device('cpu'))\n",
        "\n",
        "# generate synthetic data in numpy array format\n",
        "# synthetic_attributes, synthetic_features = model.generate_numpy(1000)\n",
        "\n",
        "# load synthetic data from DGAN_generation notebook\n",
        "synthetic_features = np.loadtxt(\"/content/drive/MyDrive/Synthetic_data/synthetic_features_reshaped\")\n",
        "### WARNING: ENSURE THAT SHAPE OF DATA HAS NOT CHANGED IN DGAN_Generation NOTEBOOK ###############\n",
        "synthetic_features = synthetic_features.reshape(1000, 125, 2)\n",
        "synthetic_attributes = np.loadtxt(\"/content/drive/MyDrive/Synthetic_data/synthetic_attributes\")\n",
        "synthetic_attributes = synthetic_attributes.reshape(-1, 1)"
      ],
      "metadata": {
        "id": "D1Z9qcnE--Mm"
      },
      "execution_count": 18,
      "outputs": []
    },
    {
      "cell_type": "code",
      "source": [
        "# iterate through synthetic samples and split into training data\n",
        "for i in range(synthetic_features.shape[0]):\n",
        "  synth_train_x_iter, synth_train_y_iter = split_NN_samples(data = synthetic_features[i, :, :], n_steps = n_steps)\n",
        "  # start with first sample and then append each array after that\n",
        "  if i == 0:\n",
        "    synth_train_x, synth_train_y = synth_train_x_iter, synth_train_y_iter\n",
        "  else:\n",
        "    synth_train_x = np.concatenate([synth_train_x, synth_train_x_iter], axis = 0)\n",
        "    synth_train_y = np.concatenate([synth_train_y, synth_train_y_iter], axis = 0)\n",
        "\n",
        "print(synth_train_x.shape)\n",
        "print(synth_train_y.shape)"
      ],
      "metadata": {
        "colab": {
          "base_uri": "https://localhost:8080/"
        },
        "id": "vQUEnbcJNCES",
        "outputId": "deee8ce9-b343-47a4-e8d8-25ef39699e33"
      },
      "execution_count": 19,
      "outputs": [
        {
          "output_type": "stream",
          "name": "stdout",
          "text": [
            "(100000, 25, 2)\n",
            "(100000, 2)\n"
          ]
        }
      ]
    },
    {
      "cell_type": "code",
      "source": [
        "# define model (should be same as model used for real data)\n",
        "LSTM_synth_model = Sequential()\n",
        "LSTM_synth_model.add(LSTM(100, activation='tanh', return_sequences=True, input_shape=(n_steps, n_features)))\n",
        "LSTM_synth_model.add(LSTM(100, activation='tanh'))\n",
        "LSTM_synth_model.add(Dense(n_features))\n",
        "LSTM_synth_model.compile(optimizer='adam', loss='mse')"
      ],
      "metadata": {
        "id": "Lr4fpfWrTMQg"
      },
      "execution_count": null,
      "outputs": []
    },
    {
      "cell_type": "code",
      "source": [
        "# if true, load a pretrained model instead of training\n",
        "load_synth_pretrain = True\n",
        "\n",
        "if load_synth_pretrain == True:\n",
        "  LSTM_synth_model = load_model(\"/content/drive/MyDrive/Models/LSTM_synth_model\")\n",
        "else:\n",
        "  # train model\n",
        "  LSTM_synth_model.fit(synth_train_x, synth_train_y, epochs = 150, verbose = 0)"
      ],
      "metadata": {
        "id": "5hp5y_AcTYta"
      },
      "execution_count": 20,
      "outputs": []
    },
    {
      "cell_type": "code",
      "source": [
        "# save model after training\n",
        "LSTM_synth_model.save(\"/content/drive/MyDrive/Models/LSTM_synth_model\")"
      ],
      "metadata": {
        "id": "cy_5_QmSiVNc",
        "colab": {
          "base_uri": "https://localhost:8080/"
        },
        "outputId": "84f2d5df-23bf-47dd-c088-061ae9e3145f"
      },
      "execution_count": 52,
      "outputs": [
        {
          "output_type": "stream",
          "name": "stderr",
          "text": [
            "WARNING:absl:Found untraced functions such as lstm_cell_2_layer_call_fn, lstm_cell_2_layer_call_and_return_conditional_losses, lstm_cell_3_layer_call_fn, lstm_cell_3_layer_call_and_return_conditional_losses while saving (showing 4 of 4). These functions will not be directly callable after loading.\n"
          ]
        }
      ]
    },
    {
      "cell_type": "code",
      "source": [
        "# forecast on test data (trained on synthetic data, but tested on real data)\n",
        "yhat_synth = LSTM_synth_model.predict(test_x, verbose=0)"
      ],
      "metadata": {
        "id": "Tfg4BvOkToUq"
      },
      "execution_count": 21,
      "outputs": []
    },
    {
      "cell_type": "code",
      "source": [
        "# format dates for comparison\n",
        "date_compare = test_df['date'].reset_index(drop = True)\n",
        "date_compare = date_compare[n_steps:].reset_index(drop = True)\n",
        "\n",
        "# create dataframe for comparing forecasts to actual\n",
        "LSTM_synth_compare = pd.concat([pd.DataFrame(yhat_synth), pd.DataFrame(test_y)], axis = 1)\n",
        "LSTM_synth_compare = pd.concat([date_compare, LSTM_synth_compare], axis = 1)\n",
        "LSTM_synth_compare.columns = ['date', 'DGS1_pred', 'DGS10_pred', 'DGS1_actual', 'DGS10_actual']\n",
        "\n",
        "# plot results\n",
        "plot_forecast_compare(LSTM_synth_compare, \n",
        "                      forecast_var_name = 'DGS1_pred', actual_var_name = 'DGS1_actual',\n",
        "                      title = 'LSTM Synthetic Model Forecasting Performance - 1-year yield')\n",
        "\n",
        "plot_forecast_compare(LSTM_synth_compare, \n",
        "                      forecast_var_name = 'DGS10_pred', actual_var_name = 'DGS10_actual',\n",
        "                      title = 'LSTM Synthetic Model Forecasting Performance - 10-year yield')"
      ],
      "metadata": {
        "colab": {
          "base_uri": "https://localhost:8080/",
          "height": 646
        },
        "id": "vBpVDggtT5Ap",
        "outputId": "e2e9f77c-e0c4-481f-ddeb-2b50dbf2de3f"
      },
      "execution_count": 22,
      "outputs": [
        {
          "output_type": "stream",
          "name": "stdout",
          "text": [
            "RMSE: 0.07156822325006244\n",
            "MAPE: 10.130707003617834\n"
          ]
        },
        {
          "output_type": "display_data",
          "data": {
            "text/plain": [
              "<Figure size 432x288 with 1 Axes>"
            ],
            "image/png": "[encoded data removed]"
          },
          "metadata": {
            "needs_background": "light"
          }
        },
        {
          "output_type": "stream",
          "name": "stdout",
          "text": [
            "RMSE: 0.11149735365375073\n",
            "MAPE: 4.511957436625973\n"
          ]
        },
        {
          "output_type": "display_data",
          "data": {
            "text/plain": [
              "<Figure size 432x288 with 1 Axes>"
            ],
            "image/png": "[encoded data removed]"
          },
          "metadata": {
            "needs_background": "light"
          }
        }
      ]
    },
    {
      "cell_type": "markdown",
      "source": [
        "# Multi-Step LSTM (Real Data)"
      ],
      "metadata": {
        "id": "AHABe7_G5YGG"
      }
    },
    {
      "cell_type": "code",
      "source": [
        "n_steps_in = 25\n",
        "# set number of steps ahead to forecast\n",
        "n_steps_out = 15\n",
        "\n",
        "# function to split samples for multiple steps ahead\n",
        "def split_NN_samples_multistep(data, n_steps_in, n_steps_out):\n",
        " X, y = list(), list()\n",
        " for i in range(len(data)):\n",
        "  # find the end of this pattern\n",
        "  end_ix = i + n_steps_in\n",
        "  out_end_ix = end_ix + n_steps_out\n",
        "  # check if we are beyond the sequence\n",
        "  if out_end_ix > len(data):\n",
        "    break\n",
        "  # gather input and output parts of the pattern\n",
        "  seq_x, seq_y = data[i:end_ix, :], data[end_ix:out_end_ix, :]\n",
        "  X.append(seq_x)\n",
        "  y.append(seq_y)\n",
        " return np.array(X), np.array(y)"
      ],
      "metadata": {
        "id": "6dRF35kn5XYS"
      },
      "execution_count": 23,
      "outputs": []
    },
    {
      "cell_type": "code",
      "source": [
        "# create training samples\n",
        "train_x_multi, train_y_multi = split_NN_samples_multistep(data = train_data, n_steps_in = n_steps_in, n_steps_out = n_steps_out)\n",
        "# train_x shape is (# of samples, # of steps, # of features)\n",
        "print(train_x_multi.shape)\n",
        "n_features_multi = train_x_multi.shape[2]\n",
        "# train_y shape is (# of samples, # of features)\n",
        "print(train_y_multi.shape)"
      ],
      "metadata": {
        "colab": {
          "base_uri": "https://localhost:8080/"
        },
        "id": "AgYK8nUq6u0V",
        "outputId": "426e373d-e603-4059-f613-de96b91cb95c"
      },
      "execution_count": 24,
      "outputs": [
        {
          "output_type": "stream",
          "name": "stdout",
          "text": [
            "(13696, 25, 2)\n",
            "(13696, 15, 2)\n"
          ]
        }
      ]
    },
    {
      "cell_type": "code",
      "source": [
        "# format test data\n",
        "test_x_multi, test_y_multi = split_NN_samples_multistep(data = test_data, n_steps_in = n_steps_in, n_steps_out = n_steps_out)\n",
        "# test_x shape is (# of samples, # of steps, # of features)\n",
        "print(test_x_multi.shape)\n",
        "# test_y shape is (# of samples, # of features)\n",
        "print(test_y_multi.shape)"
      ],
      "metadata": {
        "colab": {
          "base_uri": "https://localhost:8080/"
        },
        "id": "Foe-mE7u-SEf",
        "outputId": "62afcd24-1733-4e5f-ad45-032e18d7977f"
      },
      "execution_count": 25,
      "outputs": [
        {
          "output_type": "stream",
          "name": "stdout",
          "text": [
            "(1468, 25, 2)\n",
            "(1468, 15, 2)\n"
          ]
        }
      ]
    },
    {
      "cell_type": "code",
      "source": [
        "# define model\n",
        "LSTM_model_multi = Sequential()\n",
        "LSTM_model_multi.add(LSTM(100, activation='tanh', return_sequences=True, input_shape=(n_steps_in, n_features_multi)))\n",
        "LSTM_model_multi.add(LSTM(100, activation='tanh'))\n",
        "LSTM_model_multi.add(Dense(n_steps_out*n_features_multi))\n",
        "LSTM_model_multi.add(Reshape((n_steps_out, n_features_multi)))\n",
        "LSTM_model_multi.compile(optimizer='adam', loss='mse')"
      ],
      "metadata": {
        "id": "OiX4JpAX8akO"
      },
      "execution_count": 26,
      "outputs": []
    },
    {
      "cell_type": "code",
      "source": [
        "# if true, load a pretrained model instead of training\n",
        "load_multi_pretrain = True\n",
        "\n",
        "if load_multi_pretrain == True:\n",
        "  LSTM_model_multi = load_model(\"/content/drive/MyDrive/Models/LSTM_model_multi\")\n",
        "else:\n",
        "  # train model\n",
        "  LSTM_model_multi.fit(train_x_multi, train_y_multi, epochs = 150, verbose = 0)"
      ],
      "metadata": {
        "colab": {
          "base_uri": "https://localhost:8080/"
        },
        "id": "BzfvDIxG9AVL",
        "outputId": "8936f2e4-970f-44dc-caee-1dd4cebac3a6"
      },
      "execution_count": 27,
      "outputs": [
        {
          "output_type": "stream",
          "name": "stdout",
          "text": [
            "Epoch 1/150\n",
            "428/428 - 4s - loss: 3.6674 - 4s/epoch - 10ms/step\n",
            "Epoch 2/150\n",
            "428/428 - 2s - loss: 0.1292 - 2s/epoch - 4ms/step\n",
            "Epoch 3/150\n",
            "428/428 - 2s - loss: 0.0904 - 2s/epoch - 4ms/step\n",
            "Epoch 4/150\n",
            "428/428 - 2s - loss: 0.0795 - 2s/epoch - 4ms/step\n",
            "Epoch 5/150\n",
            "428/428 - 2s - loss: 0.0749 - 2s/epoch - 4ms/step\n",
            "Epoch 6/150\n",
            "428/428 - 2s - loss: 0.0712 - 2s/epoch - 4ms/step\n",
            "Epoch 7/150\n",
            "428/428 - 2s - loss: 0.0698 - 2s/epoch - 4ms/step\n",
            "Epoch 8/150\n",
            "428/428 - 2s - loss: 0.0690 - 2s/epoch - 4ms/step\n",
            "Epoch 9/150\n",
            "428/428 - 2s - loss: 0.0673 - 2s/epoch - 4ms/step\n",
            "Epoch 10/150\n",
            "428/428 - 2s - loss: 0.0649 - 2s/epoch - 4ms/step\n",
            "Epoch 11/150\n",
            "428/428 - 2s - loss: 0.0655 - 2s/epoch - 4ms/step\n",
            "Epoch 12/150\n",
            "428/428 - 2s - loss: 0.0653 - 2s/epoch - 4ms/step\n",
            "Epoch 13/150\n",
            "428/428 - 2s - loss: 0.0638 - 2s/epoch - 4ms/step\n",
            "Epoch 14/150\n",
            "428/428 - 2s - loss: 0.0645 - 2s/epoch - 4ms/step\n",
            "Epoch 15/150\n",
            "428/428 - 2s - loss: 0.0612 - 2s/epoch - 4ms/step\n",
            "Epoch 16/150\n",
            "428/428 - 2s - loss: 0.0610 - 2s/epoch - 4ms/step\n",
            "Epoch 17/150\n",
            "428/428 - 2s - loss: 0.0614 - 2s/epoch - 4ms/step\n",
            "Epoch 18/150\n",
            "428/428 - 2s - loss: 0.0616 - 2s/epoch - 4ms/step\n",
            "Epoch 19/150\n",
            "428/428 - 2s - loss: 0.0599 - 2s/epoch - 4ms/step\n",
            "Epoch 20/150\n",
            "428/428 - 2s - loss: 0.0608 - 2s/epoch - 4ms/step\n",
            "Epoch 21/150\n",
            "428/428 - 2s - loss: 0.0579 - 2s/epoch - 5ms/step\n",
            "Epoch 22/150\n",
            "428/428 - 2s - loss: 0.0569 - 2s/epoch - 5ms/step\n",
            "Epoch 23/150\n",
            "428/428 - 2s - loss: 0.0597 - 2s/epoch - 4ms/step\n",
            "Epoch 24/150\n",
            "428/428 - 2s - loss: 0.0568 - 2s/epoch - 4ms/step\n",
            "Epoch 25/150\n",
            "428/428 - 2s - loss: 0.0572 - 2s/epoch - 4ms/step\n",
            "Epoch 26/150\n",
            "428/428 - 2s - loss: 0.0565 - 2s/epoch - 4ms/step\n",
            "Epoch 27/150\n",
            "428/428 - 2s - loss: 0.0554 - 2s/epoch - 4ms/step\n",
            "Epoch 28/150\n",
            "428/428 - 2s - loss: 0.0577 - 2s/epoch - 4ms/step\n",
            "Epoch 29/150\n",
            "428/428 - 2s - loss: 0.0534 - 2s/epoch - 4ms/step\n",
            "Epoch 30/150\n",
            "428/428 - 2s - loss: 0.0543 - 2s/epoch - 4ms/step\n",
            "Epoch 31/150\n",
            "428/428 - 2s - loss: 0.0527 - 2s/epoch - 4ms/step\n",
            "Epoch 32/150\n",
            "428/428 - 2s - loss: 0.0538 - 2s/epoch - 4ms/step\n",
            "Epoch 33/150\n",
            "428/428 - 2s - loss: 0.0517 - 2s/epoch - 4ms/step\n",
            "Epoch 34/150\n",
            "428/428 - 2s - loss: 0.0542 - 2s/epoch - 4ms/step\n",
            "Epoch 35/150\n",
            "428/428 - 2s - loss: 0.0514 - 2s/epoch - 4ms/step\n",
            "Epoch 36/150\n",
            "428/428 - 2s - loss: 0.0496 - 2s/epoch - 4ms/step\n",
            "Epoch 37/150\n",
            "428/428 - 2s - loss: 0.0514 - 2s/epoch - 4ms/step\n",
            "Epoch 38/150\n",
            "428/428 - 2s - loss: 0.0477 - 2s/epoch - 4ms/step\n",
            "Epoch 39/150\n",
            "428/428 - 2s - loss: 0.0478 - 2s/epoch - 4ms/step\n",
            "Epoch 40/150\n",
            "428/428 - 2s - loss: 0.0508 - 2s/epoch - 4ms/step\n",
            "Epoch 41/150\n",
            "428/428 - 2s - loss: 0.0481 - 2s/epoch - 4ms/step\n",
            "Epoch 42/150\n",
            "428/428 - 2s - loss: 0.0497 - 2s/epoch - 4ms/step\n",
            "Epoch 43/150\n",
            "428/428 - 2s - loss: 0.0509 - 2s/epoch - 4ms/step\n",
            "Epoch 44/150\n",
            "428/428 - 2s - loss: 0.0503 - 2s/epoch - 4ms/step\n",
            "Epoch 45/150\n",
            "428/428 - 2s - loss: 0.0466 - 2s/epoch - 4ms/step\n",
            "Epoch 46/150\n",
            "428/428 - 2s - loss: 0.0466 - 2s/epoch - 4ms/step\n",
            "Epoch 47/150\n",
            "428/428 - 2s - loss: 0.0505 - 2s/epoch - 4ms/step\n",
            "Epoch 48/150\n",
            "428/428 - 2s - loss: 0.0457 - 2s/epoch - 4ms/step\n",
            "Epoch 49/150\n",
            "428/428 - 2s - loss: 0.0457 - 2s/epoch - 4ms/step\n",
            "Epoch 50/150\n",
            "428/428 - 2s - loss: 0.0447 - 2s/epoch - 4ms/step\n",
            "Epoch 51/150\n",
            "428/428 - 2s - loss: 0.0465 - 2s/epoch - 4ms/step\n",
            "Epoch 52/150\n",
            "428/428 - 2s - loss: 0.0435 - 2s/epoch - 4ms/step\n",
            "Epoch 53/150\n",
            "428/428 - 2s - loss: 0.0424 - 2s/epoch - 4ms/step\n",
            "Epoch 54/150\n",
            "428/428 - 2s - loss: 0.0447 - 2s/epoch - 4ms/step\n",
            "Epoch 55/150\n",
            "428/428 - 2s - loss: 0.0447 - 2s/epoch - 4ms/step\n",
            "Epoch 56/150\n",
            "428/428 - 2s - loss: 0.0439 - 2s/epoch - 4ms/step\n",
            "Epoch 57/150\n",
            "428/428 - 2s - loss: 0.0405 - 2s/epoch - 4ms/step\n",
            "Epoch 58/150\n",
            "428/428 - 2s - loss: 0.0428 - 2s/epoch - 4ms/step\n",
            "Epoch 59/150\n",
            "428/428 - 2s - loss: 0.0432 - 2s/epoch - 4ms/step\n",
            "Epoch 60/150\n",
            "428/428 - 2s - loss: 0.0412 - 2s/epoch - 4ms/step\n",
            "Epoch 61/150\n",
            "428/428 - 2s - loss: 0.0388 - 2s/epoch - 4ms/step\n",
            "Epoch 62/150\n",
            "428/428 - 2s - loss: 0.0424 - 2s/epoch - 4ms/step\n",
            "Epoch 63/150\n",
            "428/428 - 2s - loss: 0.0401 - 2s/epoch - 4ms/step\n",
            "Epoch 64/150\n",
            "428/428 - 2s - loss: 0.0394 - 2s/epoch - 4ms/step\n",
            "Epoch 65/150\n",
            "428/428 - 2s - loss: 0.0434 - 2s/epoch - 4ms/step\n",
            "Epoch 66/150\n",
            "428/428 - 2s - loss: 0.0387 - 2s/epoch - 4ms/step\n",
            "Epoch 67/150\n",
            "428/428 - 2s - loss: 0.0387 - 2s/epoch - 4ms/step\n",
            "Epoch 68/150\n",
            "428/428 - 2s - loss: 0.0395 - 2s/epoch - 4ms/step\n",
            "Epoch 69/150\n",
            "428/428 - 2s - loss: 0.0370 - 2s/epoch - 4ms/step\n",
            "Epoch 70/150\n",
            "428/428 - 2s - loss: 0.0384 - 2s/epoch - 4ms/step\n",
            "Epoch 71/150\n",
            "428/428 - 2s - loss: 0.0388 - 2s/epoch - 4ms/step\n",
            "Epoch 72/150\n",
            "428/428 - 2s - loss: 0.0355 - 2s/epoch - 4ms/step\n",
            "Epoch 73/150\n",
            "428/428 - 2s - loss: 0.0394 - 2s/epoch - 4ms/step\n",
            "Epoch 74/150\n",
            "428/428 - 2s - loss: 0.0344 - 2s/epoch - 4ms/step\n",
            "Epoch 75/150\n",
            "428/428 - 2s - loss: 0.0394 - 2s/epoch - 4ms/step\n",
            "Epoch 76/150\n",
            "428/428 - 2s - loss: 0.0351 - 2s/epoch - 4ms/step\n",
            "Epoch 77/150\n",
            "428/428 - 2s - loss: 0.0392 - 2s/epoch - 4ms/step\n",
            "Epoch 78/150\n",
            "428/428 - 2s - loss: 0.0377 - 2s/epoch - 4ms/step\n",
            "Epoch 79/150\n",
            "428/428 - 2s - loss: 0.0355 - 2s/epoch - 4ms/step\n",
            "Epoch 80/150\n",
            "428/428 - 2s - loss: 0.0313 - 2s/epoch - 4ms/step\n",
            "Epoch 81/150\n",
            "428/428 - 2s - loss: 0.0415 - 2s/epoch - 4ms/step\n",
            "Epoch 82/150\n",
            "428/428 - 2s - loss: 0.0347 - 2s/epoch - 4ms/step\n",
            "Epoch 83/150\n",
            "428/428 - 2s - loss: 0.0322 - 2s/epoch - 4ms/step\n",
            "Epoch 84/150\n",
            "428/428 - 2s - loss: 0.0356 - 2s/epoch - 4ms/step\n",
            "Epoch 85/150\n",
            "428/428 - 2s - loss: 0.0315 - 2s/epoch - 4ms/step\n",
            "Epoch 86/150\n",
            "428/428 - 2s - loss: 0.0326 - 2s/epoch - 4ms/step\n",
            "Epoch 87/150\n",
            "428/428 - 2s - loss: 0.0341 - 2s/epoch - 4ms/step\n",
            "Epoch 88/150\n",
            "428/428 - 2s - loss: 0.0337 - 2s/epoch - 4ms/step\n",
            "Epoch 89/150\n",
            "428/428 - 2s - loss: 0.0558 - 2s/epoch - 4ms/step\n",
            "Epoch 90/150\n",
            "428/428 - 2s - loss: 0.0491 - 2s/epoch - 4ms/step\n",
            "Epoch 91/150\n",
            "428/428 - 2s - loss: 0.0446 - 2s/epoch - 4ms/step\n",
            "Epoch 92/150\n",
            "428/428 - 2s - loss: 0.0420 - 2s/epoch - 4ms/step\n",
            "Epoch 93/150\n",
            "428/428 - 2s - loss: 0.0395 - 2s/epoch - 4ms/step\n",
            "Epoch 94/150\n",
            "428/428 - 2s - loss: 0.0402 - 2s/epoch - 4ms/step\n",
            "Epoch 95/150\n",
            "428/428 - 2s - loss: 0.0370 - 2s/epoch - 4ms/step\n",
            "Epoch 96/150\n",
            "428/428 - 2s - loss: 0.0363 - 2s/epoch - 4ms/step\n",
            "Epoch 97/150\n",
            "428/428 - 2s - loss: 0.0354 - 2s/epoch - 4ms/step\n",
            "Epoch 98/150\n",
            "428/428 - 2s - loss: 0.0327 - 2s/epoch - 4ms/step\n",
            "Epoch 99/150\n",
            "428/428 - 2s - loss: 0.0351 - 2s/epoch - 4ms/step\n",
            "Epoch 100/150\n",
            "428/428 - 2s - loss: 0.0322 - 2s/epoch - 4ms/step\n",
            "Epoch 101/150\n",
            "428/428 - 2s - loss: 0.0333 - 2s/epoch - 4ms/step\n",
            "Epoch 102/150\n",
            "428/428 - 2s - loss: 0.0323 - 2s/epoch - 4ms/step\n",
            "Epoch 103/150\n",
            "428/428 - 2s - loss: 0.0363 - 2s/epoch - 4ms/step\n",
            "Epoch 104/150\n",
            "428/428 - 2s - loss: 0.0315 - 2s/epoch - 4ms/step\n",
            "Epoch 105/150\n",
            "428/428 - 2s - loss: 0.0308 - 2s/epoch - 4ms/step\n",
            "Epoch 106/150\n",
            "428/428 - 2s - loss: 0.0302 - 2s/epoch - 4ms/step\n",
            "Epoch 107/150\n",
            "428/428 - 2s - loss: 0.0327 - 2s/epoch - 4ms/step\n",
            "Epoch 108/150\n",
            "428/428 - 2s - loss: 0.0307 - 2s/epoch - 4ms/step\n",
            "Epoch 109/150\n",
            "428/428 - 2s - loss: 0.0331 - 2s/epoch - 4ms/step\n",
            "Epoch 110/150\n",
            "428/428 - 2s - loss: 0.0269 - 2s/epoch - 4ms/step\n",
            "Epoch 111/150\n",
            "428/428 - 2s - loss: 0.0248 - 2s/epoch - 4ms/step\n",
            "Epoch 112/150\n",
            "428/428 - 2s - loss: 0.0306 - 2s/epoch - 4ms/step\n",
            "Epoch 113/150\n",
            "428/428 - 2s - loss: 0.0271 - 2s/epoch - 4ms/step\n",
            "Epoch 114/150\n",
            "428/428 - 2s - loss: 0.0289 - 2s/epoch - 4ms/step\n",
            "Epoch 115/150\n",
            "428/428 - 2s - loss: 0.0288 - 2s/epoch - 4ms/step\n",
            "Epoch 116/150\n",
            "428/428 - 2s - loss: 0.0337 - 2s/epoch - 4ms/step\n",
            "Epoch 117/150\n",
            "428/428 - 2s - loss: 0.0277 - 2s/epoch - 4ms/step\n",
            "Epoch 118/150\n",
            "428/428 - 2s - loss: 0.0232 - 2s/epoch - 4ms/step\n",
            "Epoch 119/150\n",
            "428/428 - 2s - loss: 0.0241 - 2s/epoch - 4ms/step\n",
            "Epoch 120/150\n",
            "428/428 - 2s - loss: 0.0261 - 2s/epoch - 4ms/step\n",
            "Epoch 121/150\n",
            "428/428 - 2s - loss: 0.0284 - 2s/epoch - 4ms/step\n",
            "Epoch 122/150\n",
            "428/428 - 2s - loss: 0.0269 - 2s/epoch - 4ms/step\n",
            "Epoch 123/150\n",
            "428/428 - 2s - loss: 0.0255 - 2s/epoch - 4ms/step\n",
            "Epoch 124/150\n",
            "428/428 - 2s - loss: 0.0236 - 2s/epoch - 4ms/step\n",
            "Epoch 125/150\n",
            "428/428 - 2s - loss: 0.0247 - 2s/epoch - 4ms/step\n",
            "Epoch 126/150\n",
            "428/428 - 2s - loss: 0.0247 - 2s/epoch - 4ms/step\n",
            "Epoch 127/150\n",
            "428/428 - 2s - loss: 0.0263 - 2s/epoch - 4ms/step\n",
            "Epoch 128/150\n",
            "428/428 - 2s - loss: 0.0288 - 2s/epoch - 4ms/step\n",
            "Epoch 129/150\n",
            "428/428 - 2s - loss: 0.0240 - 2s/epoch - 4ms/step\n",
            "Epoch 130/150\n",
            "428/428 - 2s - loss: 0.0211 - 2s/epoch - 5ms/step\n",
            "Epoch 131/150\n",
            "428/428 - 2s - loss: 0.0221 - 2s/epoch - 6ms/step\n",
            "Epoch 132/150\n",
            "428/428 - 2s - loss: 0.0225 - 2s/epoch - 4ms/step\n",
            "Epoch 133/150\n",
            "428/428 - 2s - loss: 0.0226 - 2s/epoch - 4ms/step\n",
            "Epoch 134/150\n",
            "428/428 - 2s - loss: 0.0274 - 2s/epoch - 4ms/step\n",
            "Epoch 135/150\n",
            "428/428 - 2s - loss: 0.0304 - 2s/epoch - 4ms/step\n",
            "Epoch 136/150\n",
            "428/428 - 2s - loss: 0.0286 - 2s/epoch - 4ms/step\n",
            "Epoch 137/150\n",
            "428/428 - 2s - loss: 0.0244 - 2s/epoch - 4ms/step\n",
            "Epoch 138/150\n",
            "428/428 - 2s - loss: 0.0195 - 2s/epoch - 4ms/step\n",
            "Epoch 139/150\n",
            "428/428 - 2s - loss: 0.0200 - 2s/epoch - 4ms/step\n",
            "Epoch 140/150\n",
            "428/428 - 2s - loss: 0.0228 - 2s/epoch - 4ms/step\n",
            "Epoch 141/150\n",
            "428/428 - 2s - loss: 0.0211 - 2s/epoch - 4ms/step\n",
            "Epoch 142/150\n",
            "428/428 - 2s - loss: 0.0278 - 2s/epoch - 4ms/step\n",
            "Epoch 143/150\n",
            "428/428 - 2s - loss: 0.0269 - 2s/epoch - 4ms/step\n",
            "Epoch 144/150\n",
            "428/428 - 2s - loss: 0.0209 - 2s/epoch - 4ms/step\n",
            "Epoch 145/150\n",
            "428/428 - 2s - loss: 0.0193 - 2s/epoch - 4ms/step\n",
            "Epoch 146/150\n",
            "428/428 - 2s - loss: 0.0208 - 2s/epoch - 4ms/step\n",
            "Epoch 147/150\n",
            "428/428 - 2s - loss: 0.0236 - 2s/epoch - 4ms/step\n",
            "Epoch 148/150\n",
            "428/428 - 2s - loss: 0.0190 - 2s/epoch - 4ms/step\n",
            "Epoch 149/150\n",
            "428/428 - 2s - loss: 0.0183 - 2s/epoch - 4ms/step\n",
            "Epoch 150/150\n",
            "428/428 - 2s - loss: 0.0184 - 2s/epoch - 4ms/step\n"
          ]
        }
      ]
    },
    {
      "cell_type": "code",
      "source": [
        "# save model after training\n",
        "LSTM_model_multi.save(\"/content/drive/MyDrive/Models/LSTM_model_multi\")"
      ],
      "metadata": {
        "colab": {
          "base_uri": "https://localhost:8080/"
        },
        "id": "fOiQGXbL9qdK",
        "outputId": "3b80afdf-0c77-48b6-d4ae-c13db51a783b"
      },
      "execution_count": 28,
      "outputs": [
        {
          "output_type": "stream",
          "name": "stderr",
          "text": [
            "WARNING:absl:Found untraced functions such as lstm_cell_4_layer_call_fn, lstm_cell_4_layer_call_and_return_conditional_losses, lstm_cell_5_layer_call_fn, lstm_cell_5_layer_call_and_return_conditional_losses while saving (showing 4 of 4). These functions will not be directly callable after loading.\n"
          ]
        }
      ]
    },
    {
      "cell_type": "code",
      "source": [
        "# forecast on test data\n",
        "yhat_multi = LSTM_model_multi.predict(test_x_multi, verbose=0)"
      ],
      "metadata": {
        "id": "O1fSzg6W9z5d"
      },
      "execution_count": 29,
      "outputs": []
    },
    {
      "cell_type": "code",
      "source": [
        "# pull the last day of the forecasts (e.g., if forecasting 15 days out, look at the forecast for day 15)\n",
        "yhat_multi_last_day = yhat_multi[:, n_steps_out-1, :]\n",
        "test_y_multi_last_day = test_y_multi[:, n_steps_out-1, :]\n",
        "\n",
        "# create dataframe for comparing forecasts to actual\n",
        "LSTM_compare_multi = pd.concat([pd.DataFrame(yhat_multi_last_day), pd.DataFrame(test_y_multi_last_day)], axis = 1)\n",
        "LSTM_compare_multi = pd.concat([date_compare, LSTM_compare_multi], axis = 1)\n",
        "LSTM_compare_multi.columns = ['date', 'DGS1_pred', 'DGS10_pred', 'DGS1_actual', 'DGS10_actual']\n",
        "# drop days that don't have n_steps_out values yet\n",
        "LSTM_compare_multi = LSTM_compare_multi.dropna()\n",
        "\n",
        "# plot results\n",
        "plot_forecast_compare(LSTM_compare_multi, \n",
        "                      forecast_var_name = 'DGS1_pred', actual_var_name = 'DGS1_actual',\n",
        "                      title = f'LSTM Model Forecasting Performance ({n_steps_out} days out) - 1-year yield')\n",
        "\n",
        "plot_forecast_compare(LSTM_compare, \n",
        "                      forecast_var_name = 'DGS10_pred', actual_var_name = 'DGS10_actual',\n",
        "                      title = f'LSTM Model Forecasting Performance ({n_steps_out} days out) - 10-year yield')"
      ],
      "metadata": {
        "colab": {
          "base_uri": "https://localhost:8080/",
          "height": 646
        },
        "id": "WrMH2iqg-4PG",
        "outputId": "d3ddab7b-eb7c-4226-90ea-1ce18f04aae4"
      },
      "execution_count": 47,
      "outputs": [
        {
          "output_type": "stream",
          "name": "stdout",
          "text": [
            "RMSE: 0.4369073233953562\n",
            "MAPE: 81.86026238446095\n"
          ]
        },
        {
          "output_type": "display_data",
          "data": {
            "text/plain": [
              "<Figure size 432x288 with 1 Axes>"
            ],
            "image/png": "[encoded data removed]"
          },
          "metadata": {
            "needs_background": "light"
          }
        },
        {
          "output_type": "stream",
          "name": "stdout",
          "text": [
            "RMSE: 0.1730056764834313\n",
            "MAPE: 10.673743189138971\n"
          ]
        },
        {
          "output_type": "display_data",
          "data": {
            "text/plain": [
              "<Figure size 432x288 with 1 Axes>"
            ],
            "image/png": "[encoded data removed]"
          },
          "metadata": {
            "needs_background": "light"
          }
        }
      ]
    },
    {
      "cell_type": "markdown",
      "source": [
        "# Multi-Step LSTM (Synthetic Data)"
      ],
      "metadata": {
        "id": "Xl-hhl8LLBL6"
      }
    },
    {
      "cell_type": "code",
      "source": [
        "# iterate through synthetic samples and split into training data\n",
        "for i in range(synthetic_features.shape[0]):\n",
        "  synth_train_x_iter, synth_train_y_iter = split_NN_samples_multistep(data = synthetic_features[i, :, :], \n",
        "                                                                      n_steps_in = n_steps_in, n_steps_out = n_steps_out)\n",
        "  # start with first sample and then append each array after that\n",
        "  if i == 0:\n",
        "    synth_train_x_multi, synth_train_y_multi = synth_train_x_iter, synth_train_y_iter\n",
        "  else:\n",
        "    synth_train_x_multi = np.concatenate([synth_train_x_multi, synth_train_x_iter], axis = 0)\n",
        "    synth_train_y_multi = np.concatenate([synth_train_y_multi, synth_train_y_iter], axis = 0)\n",
        "\n",
        "print(synth_train_x_multi.shape)\n",
        "print(synth_train_y_multi.shape)"
      ],
      "metadata": {
        "colab": {
          "base_uri": "https://localhost:8080/"
        },
        "id": "5vAwE5IpLEWU",
        "outputId": "9bec78d1-f81b-4d16-c769-2f3d24865d12"
      },
      "execution_count": 48,
      "outputs": [
        {
          "output_type": "stream",
          "name": "stdout",
          "text": [
            "(86000, 25, 2)\n",
            "(86000, 15, 2)\n"
          ]
        }
      ]
    },
    {
      "cell_type": "code",
      "source": [
        "# define model (should be the same as model used for real data)\n",
        "LSTM_synth_model_multi = Sequential()\n",
        "LSTM_synth_model_multi.add(LSTM(100, activation='tanh', return_sequences=True, input_shape=(n_steps_in, n_features_multi)))\n",
        "LSTM_synth_model_multi.add(LSTM(100, activation='tanh'))\n",
        "LSTM_synth_model_multi.add(Dense(n_steps_out*n_features_multi))\n",
        "LSTM_synth_model_multi.add(Reshape((n_steps_out, n_features_multi)))\n",
        "LSTM_synth_model_multi.compile(optimizer='adam', loss='mse')"
      ],
      "metadata": {
        "id": "Iu4plt9pNftQ"
      },
      "execution_count": 61,
      "outputs": []
    },
    {
      "cell_type": "code",
      "source": [
        "# if true, load a pretrained model instead of training\n",
        "load_synth_multi_pretrain = False\n",
        "\n",
        "if load_synth_multi_pretrain == True:\n",
        "  LSTM_synth_model_multi = load_model(\"/content/drive/MyDrive/Models/LSTM_synth_model_multi\")\n",
        "else:\n",
        "  # train model\n",
        "  LSTM_synth_model_multi.fit(synth_train_x_multi, synth_train_y_multi, epochs = 150, verbose = 2)"
      ],
      "metadata": {
        "colab": {
          "base_uri": "https://localhost:8080/"
        },
        "id": "ALqyal-aNvnq",
        "outputId": "bffde11a-b67e-42f5-96d0-1a3051619bdf"
      },
      "execution_count": 62,
      "outputs": [
        {
          "output_type": "stream",
          "name": "stdout",
          "text": [
            "Epoch 1/150\n",
            "2688/2688 - 16s - loss: 0.8253 - 16s/epoch - 6ms/step\n",
            "Epoch 2/150\n",
            "2688/2688 - 15s - loss: 0.1883 - 15s/epoch - 5ms/step\n",
            "Epoch 3/150\n",
            "2688/2688 - 16s - loss: 0.1597 - 16s/epoch - 6ms/step\n",
            "Epoch 4/150\n",
            "2688/2688 - 15s - loss: 0.1354 - 15s/epoch - 6ms/step\n",
            "Epoch 5/150\n",
            "2688/2688 - 16s - loss: 0.1258 - 16s/epoch - 6ms/step\n",
            "Epoch 6/150\n",
            "2688/2688 - 16s - loss: 0.1224 - 16s/epoch - 6ms/step\n",
            "Epoch 7/150\n",
            "2688/2688 - 16s - loss: 0.1120 - 16s/epoch - 6ms/step\n",
            "Epoch 8/150\n",
            "2688/2688 - 14s - loss: 0.1096 - 14s/epoch - 5ms/step\n",
            "Epoch 9/150\n",
            "2688/2688 - 15s - loss: 0.1153 - 15s/epoch - 6ms/step\n",
            "Epoch 10/150\n",
            "2688/2688 - 15s - loss: 0.1009 - 15s/epoch - 6ms/step\n",
            "Epoch 11/150\n",
            "2688/2688 - 14s - loss: 0.1001 - 14s/epoch - 5ms/step\n",
            "Epoch 12/150\n",
            "2688/2688 - 15s - loss: 0.0904 - 15s/epoch - 5ms/step\n",
            "Epoch 13/150\n",
            "2688/2688 - 16s - loss: 0.0858 - 16s/epoch - 6ms/step\n",
            "Epoch 14/150\n",
            "2688/2688 - 16s - loss: 0.0874 - 16s/epoch - 6ms/step\n",
            "Epoch 15/150\n",
            "2688/2688 - 17s - loss: 0.0799 - 17s/epoch - 6ms/step\n",
            "Epoch 16/150\n",
            "2688/2688 - 14s - loss: 0.0689 - 14s/epoch - 5ms/step\n",
            "Epoch 17/150\n",
            "2688/2688 - 15s - loss: 0.0704 - 15s/epoch - 6ms/step\n",
            "Epoch 18/150\n",
            "2688/2688 - 13s - loss: 0.0600 - 13s/epoch - 5ms/step\n",
            "Epoch 19/150\n",
            "2688/2688 - 15s - loss: 0.0706 - 15s/epoch - 6ms/step\n",
            "Epoch 20/150\n",
            "2688/2688 - 14s - loss: 0.0669 - 14s/epoch - 5ms/step\n",
            "Epoch 21/150\n",
            "2688/2688 - 13s - loss: 0.0591 - 13s/epoch - 5ms/step\n",
            "Epoch 22/150\n",
            "2688/2688 - 13s - loss: 0.0579 - 13s/epoch - 5ms/step\n",
            "Epoch 23/150\n",
            "2688/2688 - 13s - loss: 0.0621 - 13s/epoch - 5ms/step\n",
            "Epoch 24/150\n",
            "2688/2688 - 13s - loss: 0.0611 - 13s/epoch - 5ms/step\n",
            "Epoch 25/150\n",
            "2688/2688 - 13s - loss: 0.0552 - 13s/epoch - 5ms/step\n",
            "Epoch 26/150\n",
            "2688/2688 - 13s - loss: 0.0533 - 13s/epoch - 5ms/step\n",
            "Epoch 27/150\n",
            "2688/2688 - 13s - loss: 0.0549 - 13s/epoch - 5ms/step\n",
            "Epoch 28/150\n",
            "2688/2688 - 12s - loss: 0.0538 - 12s/epoch - 5ms/step\n",
            "Epoch 29/150\n",
            "2688/2688 - 13s - loss: 0.0507 - 13s/epoch - 5ms/step\n",
            "Epoch 30/150\n",
            "2688/2688 - 13s - loss: 0.0485 - 13s/epoch - 5ms/step\n",
            "Epoch 31/150\n",
            "2688/2688 - 12s - loss: 0.0528 - 12s/epoch - 5ms/step\n",
            "Epoch 32/150\n",
            "2688/2688 - 13s - loss: 0.0481 - 13s/epoch - 5ms/step\n",
            "Epoch 33/150\n",
            "2688/2688 - 13s - loss: 0.0558 - 13s/epoch - 5ms/step\n",
            "Epoch 34/150\n",
            "2688/2688 - 13s - loss: 0.0472 - 13s/epoch - 5ms/step\n",
            "Epoch 35/150\n",
            "2688/2688 - 14s - loss: 0.0450 - 14s/epoch - 5ms/step\n",
            "Epoch 36/150\n",
            "2688/2688 - 13s - loss: 0.0472 - 13s/epoch - 5ms/step\n",
            "Epoch 37/150\n",
            "2688/2688 - 13s - loss: 0.0452 - 13s/epoch - 5ms/step\n",
            "Epoch 38/150\n",
            "2688/2688 - 13s - loss: 0.0495 - 13s/epoch - 5ms/step\n",
            "Epoch 39/150\n",
            "2688/2688 - 13s - loss: 0.0445 - 13s/epoch - 5ms/step\n",
            "Epoch 40/150\n",
            "2688/2688 - 13s - loss: 0.0448 - 13s/epoch - 5ms/step\n",
            "Epoch 41/150\n",
            "2688/2688 - 13s - loss: 0.0429 - 13s/epoch - 5ms/step\n",
            "Epoch 42/150\n",
            "2688/2688 - 13s - loss: 0.0546 - 13s/epoch - 5ms/step\n",
            "Epoch 43/150\n",
            "2688/2688 - 13s - loss: 0.0496 - 13s/epoch - 5ms/step\n",
            "Epoch 44/150\n",
            "2688/2688 - 13s - loss: 0.0414 - 13s/epoch - 5ms/step\n",
            "Epoch 45/150\n",
            "2688/2688 - 13s - loss: 0.0425 - 13s/epoch - 5ms/step\n",
            "Epoch 46/150\n",
            "2688/2688 - 13s - loss: 0.0420 - 13s/epoch - 5ms/step\n",
            "Epoch 47/150\n",
            "2688/2688 - 13s - loss: 0.0447 - 13s/epoch - 5ms/step\n",
            "Epoch 48/150\n",
            "2688/2688 - 13s - loss: 0.0478 - 13s/epoch - 5ms/step\n",
            "Epoch 49/150\n",
            "2688/2688 - 13s - loss: 0.0420 - 13s/epoch - 5ms/step\n",
            "Epoch 50/150\n",
            "2688/2688 - 14s - loss: 0.0466 - 14s/epoch - 5ms/step\n",
            "Epoch 51/150\n",
            "2688/2688 - 13s - loss: 0.0401 - 13s/epoch - 5ms/step\n",
            "Epoch 52/150\n",
            "2688/2688 - 13s - loss: 0.0422 - 13s/epoch - 5ms/step\n",
            "Epoch 53/150\n",
            "2688/2688 - 13s - loss: 0.0454 - 13s/epoch - 5ms/step\n",
            "Epoch 54/150\n",
            "2688/2688 - 13s - loss: 0.0418 - 13s/epoch - 5ms/step\n",
            "Epoch 55/150\n",
            "2688/2688 - 13s - loss: 0.0425 - 13s/epoch - 5ms/step\n",
            "Epoch 56/150\n",
            "2688/2688 - 13s - loss: 0.0416 - 13s/epoch - 5ms/step\n",
            "Epoch 57/150\n",
            "2688/2688 - 13s - loss: 0.0453 - 13s/epoch - 5ms/step\n",
            "Epoch 58/150\n",
            "2688/2688 - 13s - loss: 0.0402 - 13s/epoch - 5ms/step\n",
            "Epoch 59/150\n",
            "2688/2688 - 13s - loss: 0.0492 - 13s/epoch - 5ms/step\n",
            "Epoch 60/150\n",
            "2688/2688 - 13s - loss: 0.0417 - 13s/epoch - 5ms/step\n",
            "Epoch 61/150\n",
            "2688/2688 - 13s - loss: 0.0426 - 13s/epoch - 5ms/step\n",
            "Epoch 62/150\n",
            "2688/2688 - 13s - loss: 0.0400 - 13s/epoch - 5ms/step\n",
            "Epoch 63/150\n",
            "2688/2688 - 13s - loss: 0.0426 - 13s/epoch - 5ms/step\n",
            "Epoch 64/150\n",
            "2688/2688 - 13s - loss: 0.0421 - 13s/epoch - 5ms/step\n",
            "Epoch 65/150\n",
            "2688/2688 - 14s - loss: 0.0390 - 14s/epoch - 5ms/step\n",
            "Epoch 66/150\n",
            "2688/2688 - 12s - loss: 0.0390 - 12s/epoch - 5ms/step\n",
            "Epoch 67/150\n",
            "2688/2688 - 13s - loss: 0.0377 - 13s/epoch - 5ms/step\n",
            "Epoch 68/150\n",
            "2688/2688 - 13s - loss: 0.0387 - 13s/epoch - 5ms/step\n",
            "Epoch 69/150\n",
            "2688/2688 - 13s - loss: 0.0410 - 13s/epoch - 5ms/step\n",
            "Epoch 70/150\n",
            "2688/2688 - 13s - loss: 0.0393 - 13s/epoch - 5ms/step\n",
            "Epoch 71/150\n",
            "2688/2688 - 13s - loss: 0.0373 - 13s/epoch - 5ms/step\n",
            "Epoch 72/150\n",
            "2688/2688 - 13s - loss: 0.0382 - 13s/epoch - 5ms/step\n",
            "Epoch 73/150\n",
            "2688/2688 - 13s - loss: 0.0370 - 13s/epoch - 5ms/step\n",
            "Epoch 74/150\n",
            "2688/2688 - 13s - loss: 0.0370 - 13s/epoch - 5ms/step\n",
            "Epoch 75/150\n",
            "2688/2688 - 12s - loss: 0.0368 - 12s/epoch - 5ms/step\n",
            "Epoch 76/150\n",
            "2688/2688 - 13s - loss: 0.0403 - 13s/epoch - 5ms/step\n",
            "Epoch 77/150\n",
            "2688/2688 - 13s - loss: 0.0368 - 13s/epoch - 5ms/step\n",
            "Epoch 78/150\n",
            "2688/2688 - 13s - loss: 0.0360 - 13s/epoch - 5ms/step\n",
            "Epoch 79/150\n",
            "2688/2688 - 13s - loss: 0.0371 - 13s/epoch - 5ms/step\n",
            "Epoch 80/150\n",
            "2688/2688 - 12s - loss: 0.0358 - 12s/epoch - 5ms/step\n",
            "Epoch 81/150\n",
            "2688/2688 - 12s - loss: 0.0394 - 12s/epoch - 5ms/step\n",
            "Epoch 82/150\n",
            "2688/2688 - 13s - loss: 0.0366 - 13s/epoch - 5ms/step\n",
            "Epoch 83/150\n",
            "2688/2688 - 13s - loss: 0.0370 - 13s/epoch - 5ms/step\n",
            "Epoch 84/150\n",
            "2688/2688 - 13s - loss: 0.0379 - 13s/epoch - 5ms/step\n",
            "Epoch 85/150\n",
            "2688/2688 - 12s - loss: 0.0354 - 12s/epoch - 5ms/step\n",
            "Epoch 86/150\n",
            "2688/2688 - 13s - loss: 0.0354 - 13s/epoch - 5ms/step\n",
            "Epoch 87/150\n",
            "2688/2688 - 13s - loss: 0.0349 - 13s/epoch - 5ms/step\n",
            "Epoch 88/150\n",
            "2688/2688 - 13s - loss: 0.0394 - 13s/epoch - 5ms/step\n",
            "Epoch 89/150\n",
            "2688/2688 - 13s - loss: 0.0348 - 13s/epoch - 5ms/step\n",
            "Epoch 90/150\n",
            "2688/2688 - 13s - loss: 0.0401 - 13s/epoch - 5ms/step\n",
            "Epoch 91/150\n",
            "2688/2688 - 13s - loss: 0.0342 - 13s/epoch - 5ms/step\n",
            "Epoch 92/150\n",
            "2688/2688 - 13s - loss: 0.0336 - 13s/epoch - 5ms/step\n",
            "Epoch 93/150\n",
            "2688/2688 - 13s - loss: 0.0355 - 13s/epoch - 5ms/step\n",
            "Epoch 94/150\n",
            "2688/2688 - 14s - loss: 0.0358 - 14s/epoch - 5ms/step\n",
            "Epoch 95/150\n",
            "2688/2688 - 13s - loss: 0.0341 - 13s/epoch - 5ms/step\n",
            "Epoch 96/150\n",
            "2688/2688 - 13s - loss: 0.0359 - 13s/epoch - 5ms/step\n",
            "Epoch 97/150\n",
            "2688/2688 - 13s - loss: 0.0352 - 13s/epoch - 5ms/step\n",
            "Epoch 98/150\n",
            "2688/2688 - 13s - loss: 0.0330 - 13s/epoch - 5ms/step\n",
            "Epoch 99/150\n",
            "2688/2688 - 13s - loss: 0.0373 - 13s/epoch - 5ms/step\n",
            "Epoch 100/150\n",
            "2688/2688 - 13s - loss: 0.0327 - 13s/epoch - 5ms/step\n",
            "Epoch 101/150\n",
            "2688/2688 - 13s - loss: 0.0335 - 13s/epoch - 5ms/step\n",
            "Epoch 102/150\n",
            "2688/2688 - 13s - loss: 0.0357 - 13s/epoch - 5ms/step\n",
            "Epoch 103/150\n",
            "2688/2688 - 13s - loss: 0.0326 - 13s/epoch - 5ms/step\n",
            "Epoch 104/150\n",
            "2688/2688 - 13s - loss: 0.0327 - 13s/epoch - 5ms/step\n",
            "Epoch 105/150\n",
            "2688/2688 - 12s - loss: 0.0330 - 12s/epoch - 5ms/step\n",
            "Epoch 106/150\n",
            "2688/2688 - 13s - loss: 0.0331 - 13s/epoch - 5ms/step\n",
            "Epoch 107/150\n",
            "2688/2688 - 13s - loss: 0.0350 - 13s/epoch - 5ms/step\n",
            "Epoch 108/150\n",
            "2688/2688 - 13s - loss: 0.0319 - 13s/epoch - 5ms/step\n",
            "Epoch 109/150\n",
            "2688/2688 - 13s - loss: 0.0332 - 13s/epoch - 5ms/step\n",
            "Epoch 110/150\n",
            "2688/2688 - 13s - loss: 0.0321 - 13s/epoch - 5ms/step\n",
            "Epoch 111/150\n",
            "2688/2688 - 13s - loss: 0.0316 - 13s/epoch - 5ms/step\n",
            "Epoch 112/150\n",
            "2688/2688 - 12s - loss: 0.0321 - 12s/epoch - 5ms/step\n",
            "Epoch 113/150\n",
            "2688/2688 - 13s - loss: 0.0320 - 13s/epoch - 5ms/step\n",
            "Epoch 114/150\n",
            "2688/2688 - 13s - loss: 0.0306 - 13s/epoch - 5ms/step\n",
            "Epoch 115/150\n",
            "2688/2688 - 13s - loss: 0.0315 - 13s/epoch - 5ms/step\n",
            "Epoch 116/150\n",
            "2688/2688 - 13s - loss: 0.0317 - 13s/epoch - 5ms/step\n",
            "Epoch 117/150\n",
            "2688/2688 - 12s - loss: 0.0309 - 12s/epoch - 5ms/step\n",
            "Epoch 118/150\n",
            "2688/2688 - 13s - loss: 0.0337 - 13s/epoch - 5ms/step\n",
            "Epoch 119/150\n",
            "2688/2688 - 12s - loss: 0.0307 - 12s/epoch - 5ms/step\n",
            "Epoch 120/150\n",
            "2688/2688 - 12s - loss: 0.0303 - 12s/epoch - 5ms/step\n",
            "Epoch 121/150\n",
            "2688/2688 - 12s - loss: 0.0305 - 12s/epoch - 5ms/step\n",
            "Epoch 122/150\n",
            "2688/2688 - 13s - loss: 0.0303 - 13s/epoch - 5ms/step\n",
            "Epoch 123/150\n",
            "2688/2688 - 13s - loss: 0.0324 - 13s/epoch - 5ms/step\n",
            "Epoch 124/150\n",
            "2688/2688 - 13s - loss: 0.0307 - 13s/epoch - 5ms/step\n",
            "Epoch 125/150\n",
            "2688/2688 - 13s - loss: 0.0291 - 13s/epoch - 5ms/step\n",
            "Epoch 126/150\n",
            "2688/2688 - 12s - loss: 0.0301 - 12s/epoch - 5ms/step\n",
            "Epoch 127/150\n",
            "2688/2688 - 13s - loss: 0.0315 - 13s/epoch - 5ms/step\n",
            "Epoch 128/150\n",
            "2688/2688 - 13s - loss: 0.0293 - 13s/epoch - 5ms/step\n",
            "Epoch 129/150\n",
            "2688/2688 - 12s - loss: 0.0284 - 12s/epoch - 5ms/step\n",
            "Epoch 130/150\n",
            "2688/2688 - 13s - loss: 0.0290 - 13s/epoch - 5ms/step\n",
            "Epoch 131/150\n",
            "2688/2688 - 13s - loss: 0.0287 - 13s/epoch - 5ms/step\n",
            "Epoch 132/150\n",
            "2688/2688 - 12s - loss: 0.0286 - 12s/epoch - 5ms/step\n",
            "Epoch 133/150\n",
            "2688/2688 - 12s - loss: 0.0287 - 12s/epoch - 5ms/step\n",
            "Epoch 134/150\n",
            "2688/2688 - 12s - loss: 0.0286 - 12s/epoch - 5ms/step\n",
            "Epoch 135/150\n",
            "2688/2688 - 13s - loss: 0.0292 - 13s/epoch - 5ms/step\n",
            "Epoch 136/150\n",
            "2688/2688 - 13s - loss: 0.0277 - 13s/epoch - 5ms/step\n",
            "Epoch 137/150\n",
            "2688/2688 - 12s - loss: 0.0275 - 12s/epoch - 5ms/step\n",
            "Epoch 138/150\n",
            "2688/2688 - 13s - loss: 0.0282 - 13s/epoch - 5ms/step\n",
            "Epoch 139/150\n",
            "2688/2688 - 13s - loss: 0.0277 - 13s/epoch - 5ms/step\n",
            "Epoch 140/150\n",
            "2688/2688 - 13s - loss: 0.0283 - 13s/epoch - 5ms/step\n",
            "Epoch 141/150\n",
            "2688/2688 - 12s - loss: 0.0279 - 12s/epoch - 5ms/step\n",
            "Epoch 142/150\n",
            "2688/2688 - 12s - loss: 0.0276 - 12s/epoch - 5ms/step\n",
            "Epoch 143/150\n",
            "2688/2688 - 12s - loss: 0.0270 - 12s/epoch - 5ms/step\n",
            "Epoch 144/150\n",
            "2688/2688 - 12s - loss: 0.0278 - 12s/epoch - 5ms/step\n",
            "Epoch 145/150\n",
            "2688/2688 - 13s - loss: 0.0264 - 13s/epoch - 5ms/step\n",
            "Epoch 146/150\n",
            "2688/2688 - 13s - loss: 0.0264 - 13s/epoch - 5ms/step\n",
            "Epoch 147/150\n",
            "2688/2688 - 13s - loss: 0.0267 - 13s/epoch - 5ms/step\n",
            "Epoch 148/150\n",
            "2688/2688 - 12s - loss: 0.0271 - 12s/epoch - 5ms/step\n",
            "Epoch 149/150\n",
            "2688/2688 - 13s - loss: 0.0266 - 13s/epoch - 5ms/step\n",
            "Epoch 150/150\n",
            "2688/2688 - 12s - loss: 0.0264 - 12s/epoch - 5ms/step\n"
          ]
        }
      ]
    },
    {
      "cell_type": "code",
      "source": [
        "# save model after training\n",
        "LSTM_synth_model_multi.save(\"/content/drive/MyDrive/Models/LSTM_synth_model_multi\")"
      ],
      "metadata": {
        "colab": {
          "base_uri": "https://localhost:8080/"
        },
        "id": "EkH2qBC9OKjI",
        "outputId": "bd434bc9-6323-486f-aa02-f68fcd0df0ee"
      },
      "execution_count": 63,
      "outputs": [
        {
          "output_type": "stream",
          "name": "stderr",
          "text": [
            "WARNING:absl:Found untraced functions such as lstm_cell_6_layer_call_fn, lstm_cell_6_layer_call_and_return_conditional_losses, lstm_cell_7_layer_call_fn, lstm_cell_7_layer_call_and_return_conditional_losses while saving (showing 4 of 4). These functions will not be directly callable after loading.\n"
          ]
        }
      ]
    },
    {
      "cell_type": "code",
      "source": [
        "# forecast on test data (trained on synthetic data, test on real data)\n",
        "yhat_synth_multi = LSTM_synth_model_multi.predict(test_x_multi, verbose=0)"
      ],
      "metadata": {
        "id": "urc4bQ1iOXsx"
      },
      "execution_count": 64,
      "outputs": []
    },
    {
      "cell_type": "code",
      "source": [
        "# pull the last day of the forecasts (e.g., if forecasting 15 days out, look at the forecast for day 15)\n",
        "yhat_synth_multi_last_day = yhat_synth_multi[:, n_steps_out-1, :]\n",
        "test_y_multi_last_day = test_y_multi[:, n_steps_out-1, :]\n",
        "\n",
        "# create dataframe for comparing forecasts to actual\n",
        "LSTM_synth_compare_multi = pd.concat([pd.DataFrame(yhat_synth_multi_last_day), pd.DataFrame(test_y_multi_last_day)], axis = 1)\n",
        "LSTM_synth_compare_multi = pd.concat([date_compare, LSTM_synth_compare_multi], axis = 1)\n",
        "LSTM_synth_compare_multi.columns = ['date', 'DGS1_pred', 'DGS10_pred', 'DGS1_actual', 'DGS10_actual']\n",
        "# drop days that don't have n_steps_out values yet\n",
        "LSTM_synth_compare_multi = LSTM_synth_compare_multi.dropna()\n",
        "\n",
        "# plot results\n",
        "plot_forecast_compare(LSTM_synth_compare_multi, \n",
        "                      forecast_var_name = 'DGS1_pred', actual_var_name = 'DGS1_actual',\n",
        "                      title = f'LSTM Synthetic Model Forecasting Performance ({n_steps_out} days out) - 1-year yield')\n",
        "\n",
        "plot_forecast_compare(LSTM_synth_compare_multi, \n",
        "                      forecast_var_name = 'DGS10_pred', actual_var_name = 'DGS10_actual',\n",
        "                      title = f'LSTM Synthetic Model Forecasting Performance ({n_steps_out} days out) - 10-year yield')"
      ],
      "metadata": {
        "colab": {
          "base_uri": "https://localhost:8080/",
          "height": 646
        },
        "id": "hC2g0CcqOlgc",
        "outputId": "3154c700-2056-42b6-9990-57bdb48a94d1"
      },
      "execution_count": 65,
      "outputs": [
        {
          "output_type": "stream",
          "name": "stdout",
          "text": [
            "RMSE: 0.5394293646937445\n",
            "MAPE: 32.67612290937754\n"
          ]
        },
        {
          "output_type": "display_data",
          "data": {
            "text/plain": [
              "<Figure size 432x288 with 1 Axes>"
            ],
            "image/png": "[encoded data removed]"
          },
          "metadata": {
            "needs_background": "light"
          }
        },
        {
          "output_type": "stream",
          "name": "stdout",
          "text": [
            "RMSE: 0.854972740843863\n",
            "MAPE: 23.589719055493024\n"
          ]
        },
        {
          "output_type": "display_data",
          "data": {
            "text/plain": [
              "<Figure size 432x288 with 1 Axes>"
            ],
            "image/png": "[encoded data removed]"
          },
          "metadata": {
            "needs_background": "light"
          }
        }
      ]
    }
  ]
}