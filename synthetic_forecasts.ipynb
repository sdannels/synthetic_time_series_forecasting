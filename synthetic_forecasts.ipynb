{
  "nbformat": 4,
  "nbformat_minor": 0,
  "metadata": {
    "colab": {
      "provenance": [],
      "mount_file_id": "1AALFZd_2jkQz7R0m2KYspRXo8FgD25xr",
      "authorship_tag": "ABX9TyNQP93JUHgnteTXligOyHaV",
      "include_colab_link": true
    },
    "kernelspec": {
      "name": "python3",
      "display_name": "Python 3"
    },
    "language_info": {
      "name": "python"
    },
    "gpuClass": "standard",
    "accelerator": "GPU"
  },
  "cells": [
    {
      "cell_type": "markdown",
      "metadata": {
        "id": "view-in-github",
        "colab_type": "text"
      },
      "source": [
        "<a href=\"https://colab.research.google.com/github/sdannels/synthetic_time_series_forecasting/blob/main/synthetic_forecasts.ipynb\" target=\"_parent\"><img src=\"https://colab.research.google.com/assets/colab-badge.svg\" alt=\"Open In Colab\"/></a>"
      ]
    },
    {
      "cell_type": "code",
      "execution_count": 1,
      "metadata": {
        "id": "lJWXgKfq-saW"
      },
      "outputs": [],
      "source": [
        "%%capture\n",
        "!pip install torch numpy pandas matplotlib scikit-learn fredapi statsmodels datetime keras math"
      ]
    },
    {
      "cell_type": "code",
      "source": [
        "import pandas as pd\n",
        "import numpy as np\n",
        "import math\n",
        "import statsmodels.api as sm\n",
        "import matplotlib.pyplot as plt\n",
        "import matplotlib.dates as md\n",
        "from statsmodels.tsa.ar_model import AutoReg, ar_select_order\n",
        "import datetime as dt\n",
        "import torch\n",
        "from keras.models import Sequential\n",
        "from keras.layers import LSTM\n",
        "from keras.layers import Dense\n",
        "#from gretel_synthetics.timeseries_dgan.dgan import DGAN\n",
        "#from gretel_synthetics.timeseries_dgan.config import DGANConfig, OutputType\n",
        "from sklearn.metrics import mean_squared_error, mean_absolute_percentage_error"
      ],
      "metadata": {
        "id": "43Ps4kCfS23Y"
      },
      "execution_count": 2,
      "outputs": []
    },
    {
      "cell_type": "code",
      "source": [
        "# read in economic data and convert to DateTime index\n",
        "df = pd.read_csv(\"/content/drive/MyDrive/Synthetic_data/fred_data\", index_col = 0)\n",
        "df.index = pd.DatetimeIndex(df.index)\n",
        "df.index.name = 'date'\n",
        "df = df.reset_index()\n",
        "# create lag of 10-year yield\n",
        "df['DGS10_lag'] = df['DGS10'].shift(1)"
      ],
      "metadata": {
        "id": "zcjqDdR3TQjD"
      },
      "execution_count": 3,
      "outputs": []
    },
    {
      "cell_type": "markdown",
      "source": [
        "# Autoregressive Model"
      ],
      "metadata": {
        "id": "v-oLHmngRCFh"
      }
    },
    {
      "cell_type": "code",
      "source": [
        "# set last date for training data and first date for forecasting (next day)\n",
        "last_train_date = '12-31-2016'\n",
        "start_forecast_date = dt.datetime.strptime(last_train_date, '%m-%d-%Y') + dt.timedelta(days = 3)\n",
        "start_forecast_date = start_forecast_date.strftime('%m-%d-%Y')\n",
        "end_forecast_date = '12-31-2019'\n",
        "\n",
        "# split up training and testing data\n",
        "train_df = df[df['date'] <= last_train_date]\n",
        "test_df = df[df['date'] > last_train_date]"
      ],
      "metadata": {
        "id": "Xnm0uvTISNtw"
      },
      "execution_count": 4,
      "outputs": []
    },
    {
      "cell_type": "code",
      "source": [
        "# choose optimal number of lags by BIC\n",
        "opt_mod = ar_select_order(train_df['DGS1'], exog = train_df['DGS10_lag'], \n",
        "                          maxlag=15, ic = 'bic', missing = 'drop', old_names = False)\n",
        "print(f'Chosen lags: {opt_mod.ar_lags}')\n",
        "# fit model with chosen number of lags and heteroskedastic-robust standard errors\n",
        "mod = AutoReg(train_df['DGS1'], exog = train_df['DGS10_lag'], lags = 13, trend = 'c',\n",
        "              missing = 'drop', old_names = False)\n",
        "res = mod.fit(cov_type=\"HC0\")\n",
        "print(res.summary())"
      ],
      "metadata": {
        "colab": {
          "base_uri": "https://localhost:8080/"
        },
        "id": "kkKyynOwMPwQ",
        "outputId": "5a93452b-9f18-4c55-8ba8-62e2c116fddd"
      },
      "execution_count": 5,
      "outputs": [
        {
          "output_type": "stream",
          "name": "stderr",
          "text": [
            "/usr/local/lib/python3.8/dist-packages/statsmodels/tsa/base/tsa_model.py:578: ValueWarning: An unsupported index was provided and will be ignored when e.g. forecasting.\n",
            "  warnings.warn('An unsupported index was provided and will be'\n",
            "/usr/local/lib/python3.8/dist-packages/statsmodels/tsa/base/tsa_model.py:578: ValueWarning: An unsupported index was provided and will be ignored when e.g. forecasting.\n",
            "  warnings.warn('An unsupported index was provided and will be'\n",
            "/usr/local/lib/python3.8/dist-packages/statsmodels/tsa/base/tsa_model.py:578: ValueWarning: An unsupported index was provided and will be ignored when e.g. forecasting.\n",
            "  warnings.warn('An unsupported index was provided and will be'\n"
          ]
        },
        {
          "output_type": "stream",
          "name": "stdout",
          "text": [
            "Chosen lags: [ 1  2  3  4  5  6  7  8  9 10 11 12 13]\n",
            "                            AutoReg Model Results                             \n",
            "==============================================================================\n",
            "Dep. Variable:                   DGS1   No. Observations:                13734\n",
            "Model:                  AutoReg-X(13)   Log Likelihood               14775.944\n",
            "Method:               Conditional MLE   S.D. of innovations              0.082\n",
            "Date:                Mon, 16 Jan 2023   AIC                             -4.989\n",
            "Time:                        02:42:52   BIC                             -4.981\n",
            "Sample:                            13   HQIC                            -4.986\n",
            "                                13734                                         \n",
            "==============================================================================\n",
            "                 coef    std err          z      P>|z|      [0.025      0.975]\n",
            "------------------------------------------------------------------------------\n",
            "const          0.0008      0.002      0.325      0.745      -0.004       0.005\n",
            "DGS1.L1        1.1031      0.021     51.607      0.000       1.061       1.145\n",
            "DGS1.L2       -0.0793      0.032     -2.514      0.012      -0.141      -0.017\n",
            "DGS1.L3       -0.0414      0.030     -1.362      0.173      -0.101       0.018\n",
            "DGS1.L4        0.0459      0.032      1.452      0.146      -0.016       0.108\n",
            "DGS1.L5       -0.0207      0.034     -0.618      0.537      -0.087       0.045\n",
            "DGS1.L6        0.0131      0.032      0.409      0.683      -0.050       0.076\n",
            "DGS1.L7        0.0251      0.031      0.819      0.413      -0.035       0.085\n",
            "DGS1.L8       -0.0155      0.029     -0.527      0.598      -0.073       0.042\n",
            "DGS1.L9       -0.0022      0.031     -0.071      0.944      -0.063       0.059\n",
            "DGS1.L10       0.0035      0.032      0.110      0.913      -0.059       0.066\n",
            "DGS1.L11      -0.0570      0.032     -1.781      0.075      -0.120       0.006\n",
            "DGS1.L12       0.0567      0.032      1.750      0.080      -0.007       0.120\n",
            "DGS1.L13      -0.0323      0.021     -1.546      0.122      -0.073       0.009\n",
            "DGS10_lag      0.0006      0.001      0.642      0.521      -0.001       0.002\n",
            "                                    Roots                                     \n",
            "==============================================================================\n",
            "                   Real          Imaginary           Modulus         Frequency\n",
            "------------------------------------------------------------------------------\n",
            "AR.1            -1.2642           -0.0000j            1.2642           -0.5000\n",
            "AR.2            -1.0890           -0.6569j            1.2718           -0.4136\n",
            "AR.3            -1.0890           +0.6569j            1.2718            0.4136\n",
            "AR.4            -0.5637           -1.1798j            1.3075           -0.3209\n",
            "AR.5            -0.5637           +1.1798j            1.3075            0.3209\n",
            "AR.6             0.1054           -1.3386j            1.3428           -0.2375\n",
            "AR.7             0.1054           +1.3386j            1.3428            0.2375\n",
            "AR.8             1.0012           -0.0000j            1.0012           -0.0000\n",
            "AR.9             1.1935           -0.0000j            1.1935           -0.0000\n",
            "AR.10            1.1237           -0.8266j            1.3950           -0.1009\n",
            "AR.11            1.1237           +0.8266j            1.3950            0.1009\n",
            "AR.12            0.8369           -1.1890j            1.4540           -0.1524\n",
            "AR.13            0.8369           +1.1890j            1.4540            0.1524\n",
            "------------------------------------------------------------------------------\n"
          ]
        }
      ]
    },
    {
      "cell_type": "code",
      "source": [
        "# find start and end index numbers\n",
        "df_index = df.copy()\n",
        "start_forecast_index = df_index.index[df_index['date'] == start_forecast_date][0]\n",
        "end_forecast_index = df_index.index[df_index['date'] == end_forecast_date][0]\n",
        "del df_index\n",
        "\n",
        "# forecast\n",
        "ar_preds = res.predict(start = start_forecast_index, end = end_forecast_index, \n",
        "                       exog_oos = test_df['DGS10_lag'], dynamic = False)"
      ],
      "metadata": {
        "colab": {
          "base_uri": "https://localhost:8080/"
        },
        "id": "dp827yutRntR",
        "outputId": "66d3e594-03ce-432f-a055-0332408506e4"
      },
      "execution_count": 6,
      "outputs": [
        {
          "output_type": "stream",
          "name": "stderr",
          "text": [
            "/usr/local/lib/python3.8/dist-packages/statsmodels/tsa/base/tsa_model.py:376: ValueWarning: No supported index is available. Prediction results will be given with an integer index beginning at `start`.\n",
            "  warnings.warn('No supported index is available.'\n"
          ]
        }
      ]
    },
    {
      "cell_type": "code",
      "source": [
        "# compare forecasts to actuals\n",
        "actuals = df.loc[(df['date'] >= start_forecast_date) & (df['date'] <= end_forecast_date), 'DGS1']\n",
        "actuals_df = df.loc[(df['date'] >= start_forecast_date) & (df['date'] <= end_forecast_date), ['date', 'DGS1']]\n",
        "ar_compare = pd.concat([actuals_df, ar_preds], axis = 1)\n",
        "ar_compare.columns = ['date', 'actual', 'forecast']\n",
        "\n",
        "# compute RMSE and MAPE\n",
        "ar_rmse = math.sqrt(mean_squared_error(actuals, ar_preds))\n",
        "ar_mape = mean_absolute_percentage_error(actuals, ar_preds)*100\n",
        "print(f'RMSE: {ar_rmse}')\n",
        "print(f'MAPE: {ar_mape}')\n",
        "\n",
        "# plot results\n",
        "plt.plot(ar_compare['date'], ar_compare['actual'], label = 'Actual')\n",
        "plt.plot(ar_compare['date'], ar_compare['forecast'], label = 'Forecast')\n",
        "plt.title('AR Model Forecasting Performance')\n",
        "plt.legend()\n",
        "plt.xticks(rotation = 45)\n",
        "plt.show()"
      ],
      "metadata": {
        "colab": {
          "base_uri": "https://localhost:8080/",
          "height": 344
        },
        "id": "F9-rZQORoKC6",
        "outputId": "cb3ee004-ff88-4d0c-e0ae-6f9e0db22609"
      },
      "execution_count": 7,
      "outputs": [
        {
          "output_type": "stream",
          "name": "stdout",
          "text": [
            "RMSE: 0.5843206747512005\n",
            "MAPE: 21.987263125616693\n"
          ]
        },
        {
          "output_type": "display_data",
          "data": {
            "text/plain": [
              "<Figure size 432x288 with 1 Axes>"
            ],
            "image/png": "[encoded data removed]"
          },
          "metadata": {
            "needs_background": "light"
          }
        }
      ]
    },
    {
      "cell_type": "markdown",
      "source": [
        "# LSTM Neural Network (Real Data)\n",
        "\n",
        "Parts of code adapted from examples in: https://machinelearningmastery.com/how-to-develop-lstm-models-for-time-series-forecasting/"
      ],
      "metadata": {
        "id": "TuwWFi760X00"
      }
    },
    {
      "cell_type": "code",
      "source": [
        "# function to reformat data from df to numpy array\n",
        "def df_to_np(df, cols):\n",
        "  \"\"\"\n",
        "    df: pandas DataFrame\n",
        "    cols = list of column names from df to include\n",
        "  \"\"\"\n",
        "  data = df[cols]\n",
        "  data = data.to_numpy()\n",
        "  return data\n",
        "\n",
        "# function to split data into samples for NN\n",
        "def split_NN_samples(data, n_steps):\n",
        "  X, y = list(), list()\n",
        "  for i in range(len(data)):\n",
        "    # find the end of this pattern\n",
        "    end_ix = i + n_steps\n",
        "    # check if we are beyond the dataset\n",
        "    if end_ix > len(data)-1:\n",
        "      break\n",
        "    # gather input and output parts of the pattern\n",
        "    seq_x, seq_y = data[i:end_ix, :], data[end_ix, :]\n",
        "    X.append(seq_x)\n",
        "    y.append(seq_y)\n",
        "  return np.array(X), np.array(y)"
      ],
      "metadata": {
        "id": "sP-rpD_pPVD4"
      },
      "execution_count": 8,
      "outputs": []
    },
    {
      "cell_type": "code",
      "source": [
        "# select features from df and # of steps for each sample\n",
        "feature_cols = ['DGS1', 'DGS10']\n",
        "n_steps = 25\n",
        "\n",
        "# format training data\n",
        "train_data = df_to_np(train_df, feature_cols)\n",
        "train_x, train_y = split_NN_samples(data = train_data, n_steps = n_steps)\n",
        "# train_x shape is (# of samples, # of steps, # of features)\n",
        "print(train_x.shape)\n",
        "n_features = train_x.shape[2]\n",
        "# train_y shape is (# of samples, # of features)\n",
        "print(train_y.shape)"
      ],
      "metadata": {
        "colab": {
          "base_uri": "https://localhost:8080/"
        },
        "id": "wHr5y2UJZKAp",
        "outputId": "adee8a61-37d7-42f5-ef00-ce56c37fe69f"
      },
      "execution_count": 9,
      "outputs": [
        {
          "output_type": "stream",
          "name": "stdout",
          "text": [
            "(13710, 25, 2)\n",
            "(13710, 2)\n"
          ]
        }
      ]
    },
    {
      "cell_type": "code",
      "source": [
        "# define model\n",
        "LSTM_model = Sequential()\n",
        "LSTM_model.add(LSTM(100, activation='tanh', return_sequences=True, input_shape=(n_steps, n_features)))\n",
        "LSTM_model.add(LSTM(100, activation='tanh'))\n",
        "LSTM_model.add(Dense(n_features))\n",
        "LSTM_model.compile(optimizer='adam', loss='mse')"
      ],
      "metadata": {
        "id": "bgNmLB6bjAQS"
      },
      "execution_count": 15,
      "outputs": []
    },
    {
      "cell_type": "code",
      "source": [
        "# if true, load a pretrained model instead of training\n",
        "load_pretrain = True\n",
        "\n",
        "if load_pretrain == True:\n",
        "  LSTM_model = keras.models.load_model(\"/content/drive/MyDrive/Synthetic_data/LSTM_model\")\n",
        "else:\n",
        "  # train model\n",
        "  LSTM_model.fit(train_x, train_y, epochs = 200, verbose = 0)"
      ],
      "metadata": {
        "colab": {
          "base_uri": "https://localhost:8080/"
        },
        "id": "Zk-YVwgvkfY_",
        "outputId": "1ae3ad27-5e88-4eec-992b-908c7e6be016"
      },
      "execution_count": 16,
      "outputs": [
        {
          "output_type": "execute_result",
          "data": {
            "text/plain": [
              "<keras.callbacks.History at 0x7f4ae07fda30>"
            ]
          },
          "metadata": {},
          "execution_count": 16
        }
      ]
    },
    {
      "cell_type": "code",
      "source": [
        "# save model after training\n",
        "LSTM_model.save(\"/content/drive/MyDrive/Synthetic_data/LSTM_model\")"
      ],
      "metadata": {
        "id": "qoCA9cHRsBlG"
      },
      "execution_count": null,
      "outputs": []
    },
    {
      "cell_type": "code",
      "source": [
        "# format test data\n",
        "test_df = df[(df['date'] > last_train_date) & (df['date'] <= end_forecast_date)]\n",
        "test_data = df_to_np(test_df, feature_cols)\n",
        "test_x, test_y = split_NN_samples(data = test_data, n_steps = n_steps)\n",
        "# test_x shape is (# of samples, # of steps, # of features)\n",
        "print(test_x.shape)\n",
        "# test_y shape is (# of samples, # of features)\n",
        "print(test_y.shape)"
      ],
      "metadata": {
        "colab": {
          "base_uri": "https://localhost:8080/"
        },
        "id": "g6a8oUfgmXMJ",
        "outputId": "7bc2ffdc-d22f-4af0-ef34-0cbffcba2603"
      },
      "execution_count": 10,
      "outputs": [
        {
          "output_type": "stream",
          "name": "stdout",
          "text": [
            "(724, 25, 2)\n",
            "(724, 2)\n"
          ]
        }
      ]
    },
    {
      "cell_type": "code",
      "source": [
        "# forecast on test data\n",
        "yhat = LSTM_model.predict(test_x, verbose=0)"
      ],
      "metadata": {
        "id": "gzK3UcUmlJw7"
      },
      "execution_count": 18,
      "outputs": []
    },
    {
      "cell_type": "code",
      "source": [
        "# format dates for comparison\n",
        "date_compare = test_df['date'].reset_index(drop = True)\n",
        "date_compare = date_compare[n_steps:].reset_index(drop = True)\n",
        "\n",
        "# create dataframe for comparing forecasts to actual\n",
        "LSTM_compare = pd.concat([pd.DataFrame(yhat), pd.DataFrame(test_y)], axis = 1)\n",
        "LSTM_compare = pd.concat([date_compare, LSTM_compare], axis = 1)\n",
        "LSTM_compare.columns = ['date', 'DGS1_pred', 'DGS10_pred', 'DGS1_actual', 'DGS10_actual']\n",
        "\n",
        "# compute RMSE and MAPE for DGS1\n",
        "LSTM_rmse = math.sqrt(mean_squared_error(LSTM_compare['DGS1_actual'], LSTM_compare['DGS1_pred']))\n",
        "LSTM_mape = mean_absolute_percentage_error(LSTM_compare['DGS1_actual'], LSTM_compare['DGS1_pred'])*100\n",
        "print(f'RMSE: {LSTM_rmse}')\n",
        "print(f'MAPE: {LSTM_mape}')\n",
        "\n",
        "# plot results\n",
        "plt.plot(LSTM_compare['date'], LSTM_compare['DGS1_actual'], label = 'Actual')\n",
        "plt.plot(LSTM_compare['date'], LSTM_compare['DGS1_pred'], label = 'Forecast')\n",
        "plt.title('LSTM Model Forecasting Performance - 1-year Rate')\n",
        "plt.legend()\n",
        "plt.xticks(rotation = 45)\n",
        "plt.show()"
      ],
      "metadata": {
        "colab": {
          "base_uri": "https://localhost:8080/",
          "height": 344
        },
        "id": "t78-lhp5sb3O",
        "outputId": "de86e2a3-859c-4175-dd74-74fb58650eb1"
      },
      "execution_count": 19,
      "outputs": [
        {
          "output_type": "stream",
          "name": "stdout",
          "text": [
            "RMSE: 0.11051287081831773\n",
            "MAPE: 4.494627667379585\n"
          ]
        },
        {
          "output_type": "display_data",
          "data": {
            "text/plain": [
              "<Figure size 432x288 with 1 Axes>"
            ],
            "image/png": "[encoded data removed]"
          },
          "metadata": {
            "needs_background": "light"
          }
        }
      ]
    },
    {
      "cell_type": "markdown",
      "source": [
        "# LSTM Neural Network (Synthetic Data)\n",
        "\n",
        "This model is trained on synthetic data, but tested on the same real data as above."
      ],
      "metadata": {
        "id": "vSS9M5wT0TSS"
      }
    },
    {
      "cell_type": "code",
      "source": [
        "# load previously trained model\n",
        "#if torch.cuda.is_available() == True:\n",
        "#  model = DGAN.load('/content/drive/MyDrive/Models/DGAN_trained.pt')\n",
        "#else:\n",
        "#  model = DGAN.load('/content/drive/MyDrive/Models/DGAN_trained.pt', map_location = torch.device('cpu'))\n",
        "\n",
        "# generate synthetic data in numpy array format\n",
        "# synthetic_attributes, synthetic_features = model.generate_numpy(1000)\n",
        "\n",
        "# load synthetic data from DGAN_generation notebook\n",
        "synthetic_features = np.loadtxt(\"/content/drive/MyDrive/Synthetic_data/synthetic_features_reshaped\")\n",
        "### WARNING: ENSURE THAT SHAPE OF DATA HAS NOT CHANGED IN DGAN_Generation NOTEBOOK ###############\n",
        "synthetic_features = synthetic_features.reshape(1000, 125, 2)\n",
        "synthetic_attributes = np.loadtxt(\"/content/drive/MyDrive/Synthetic_data/synthetic_attributes\")\n",
        "synthetic_attributes = synthetic_attributes.reshape(-1, 1)"
      ],
      "metadata": {
        "id": "D1Z9qcnE--Mm"
      },
      "execution_count": 17,
      "outputs": []
    },
    {
      "cell_type": "code",
      "source": [
        "# iterate through synthetic samples and split into training data\n",
        "for i in range(synthetic_features.shape[0]):\n",
        "  synth_train_x_iter, synth_train_y_iter = split_NN_samples(data = synthetic_features[i, :, :], n_steps = n_steps)\n",
        "  # start with first sample and then append each array after that\n",
        "  if i == 0:\n",
        "    synth_train_x, synth_train_y = synth_train_x_iter, synth_train_y_iter\n",
        "  else:\n",
        "    synth_train_x = np.concatenate([synth_train_x, synth_train_x_iter], axis = 0)\n",
        "    synth_train_y = np.concatenate([synth_train_y, synth_train_y_iter], axis = 0)\n",
        "\n",
        "print(synth_train_x.shape)\n",
        "print(synth_train_y.shape)"
      ],
      "metadata": {
        "id": "vQUEnbcJNCES"
      },
      "execution_count": 23,
      "outputs": []
    },
    {
      "cell_type": "code",
      "source": [
        "# define model (should be same as model used for real data)\n",
        "LSTM_synth_model = Sequential()\n",
        "LSTM_synth_model.add(LSTM(100, activation='tanh', return_sequences=True, input_shape=(n_steps, n_features)))\n",
        "LSTM_synth_model.add(LSTM(100, activation='tanh'))\n",
        "LSTM_synth_model.add(Dense(n_features))\n",
        "LSTM_synth_model.compile(optimizer='adam', loss='mse')"
      ],
      "metadata": {
        "id": "Lr4fpfWrTMQg"
      },
      "execution_count": 25,
      "outputs": []
    },
    {
      "cell_type": "code",
      "source": [
        "# if true, load a pretrained model instead of training\n",
        "load_synth_pretrain = True\n",
        "\n",
        "if load_synth_pretrain == True:\n",
        "  LSTM_synth_model = keras.models.load_model(\"/content/drive/MyDrive/Synthetic_data/LSTM_synth_model\")\n",
        "else:\n",
        "  # train model\n",
        "  LSTM_synth_model.fit(synth_train_x, synth_train_y, epochs = 150, verbose = 0)"
      ],
      "metadata": {
        "colab": {
          "base_uri": "https://localhost:8080/",
          "height": 1000
        },
        "id": "5hp5y_AcTYta",
        "outputId": "dcf7af37-80c4-4f89-b492-d27b7068a7cb"
      },
      "execution_count": 26,
      "outputs": [
        {
          "output_type": "stream",
          "name": "stdout",
          "text": [
            "Epoch 1/200\n",
            "3125/3125 [==============================] - 24s 5ms/step - loss: 0.2291\n",
            "Epoch 2/200\n",
            "3125/3125 [==============================] - 17s 5ms/step - loss: 0.0431\n",
            "Epoch 3/200\n",
            "3125/3125 [==============================] - 20s 7ms/step - loss: 0.0351\n",
            "Epoch 4/200\n",
            "3125/3125 [==============================] - 19s 6ms/step - loss: 0.0321\n",
            "Epoch 5/200\n",
            "3125/3125 [==============================] - 17s 6ms/step - loss: 0.0322\n",
            "Epoch 6/200\n",
            "3125/3125 [==============================] - 17s 6ms/step - loss: 0.0299\n",
            "Epoch 7/200\n",
            "3125/3125 [==============================] - 17s 6ms/step - loss: 0.0280\n",
            "Epoch 8/200\n",
            "3125/3125 [==============================] - 17s 6ms/step - loss: 0.0302\n",
            "Epoch 9/200\n",
            "3125/3125 [==============================] - 17s 6ms/step - loss: 0.0249\n",
            "Epoch 10/200\n",
            "3125/3125 [==============================] - 17s 6ms/step - loss: 0.0267\n",
            "Epoch 11/200\n",
            "3125/3125 [==============================] - 17s 6ms/step - loss: 0.0246\n",
            "Epoch 12/200\n",
            "3125/3125 [==============================] - 18s 6ms/step - loss: 0.0244\n",
            "Epoch 13/200\n",
            "3125/3125 [==============================] - 18s 6ms/step - loss: 0.0229\n",
            "Epoch 14/200\n",
            "3125/3125 [==============================] - 17s 6ms/step - loss: 0.0237\n",
            "Epoch 15/200\n",
            "3125/3125 [==============================] - 17s 5ms/step - loss: 0.0232\n",
            "Epoch 16/200\n",
            "3125/3125 [==============================] - 17s 5ms/step - loss: 0.0216\n",
            "Epoch 17/200\n",
            "3125/3125 [==============================] - 18s 6ms/step - loss: 0.0214\n",
            "Epoch 18/200\n",
            "3125/3125 [==============================] - 17s 5ms/step - loss: 0.0204\n",
            "Epoch 19/200\n",
            "3125/3125 [==============================] - 17s 5ms/step - loss: 0.0208\n",
            "Epoch 20/200\n",
            "3125/3125 [==============================] - 17s 5ms/step - loss: 0.0199\n",
            "Epoch 21/200\n",
            "3125/3125 [==============================] - 17s 5ms/step - loss: 0.0191\n",
            "Epoch 22/200\n",
            "3125/3125 [==============================] - 18s 6ms/step - loss: 0.0197\n",
            "Epoch 23/200\n",
            "3125/3125 [==============================] - 17s 5ms/step - loss: 0.0193\n",
            "Epoch 24/200\n",
            "3125/3125 [==============================] - 17s 5ms/step - loss: 0.0183\n",
            "Epoch 25/200\n",
            "3125/3125 [==============================] - 17s 5ms/step - loss: 0.0205\n",
            "Epoch 26/200\n",
            "3125/3125 [==============================] - 17s 5ms/step - loss: 0.0173\n",
            "Epoch 27/200\n",
            "3125/3125 [==============================] - 17s 5ms/step - loss: 0.0167\n",
            "Epoch 28/200\n",
            "3125/3125 [==============================] - 17s 5ms/step - loss: 0.0173\n",
            "Epoch 29/200\n",
            "3125/3125 [==============================] - 17s 5ms/step - loss: 0.0168\n",
            "Epoch 30/200\n",
            "3125/3125 [==============================] - 17s 5ms/step - loss: 0.0173\n",
            "Epoch 31/200\n",
            "3125/3125 [==============================] - 18s 6ms/step - loss: 0.0175\n",
            "Epoch 32/200\n",
            "3125/3125 [==============================] - 17s 5ms/step - loss: 0.0160\n",
            "Epoch 33/200\n",
            "3125/3125 [==============================] - 17s 5ms/step - loss: 0.0159\n",
            "Epoch 34/200\n",
            "3125/3125 [==============================] - 17s 5ms/step - loss: 0.0155\n",
            "Epoch 35/200\n",
            "3125/3125 [==============================] - 18s 6ms/step - loss: 0.0162\n",
            "Epoch 36/200\n",
            "3125/3125 [==============================] - 17s 5ms/step - loss: 0.0153\n",
            "Epoch 37/200\n",
            "3125/3125 [==============================] - 17s 5ms/step - loss: 0.0142\n",
            "Epoch 38/200\n",
            "3125/3125 [==============================] - 17s 5ms/step - loss: 0.0155\n",
            "Epoch 39/200\n",
            "3125/3125 [==============================] - 17s 5ms/step - loss: 0.0137\n",
            "Epoch 40/200\n",
            "3125/3125 [==============================] - 17s 5ms/step - loss: 0.0136\n",
            "Epoch 41/200\n",
            "3125/3125 [==============================] - 18s 6ms/step - loss: 0.0132\n",
            "Epoch 42/200\n",
            "3125/3125 [==============================] - 17s 5ms/step - loss: 0.0135\n",
            "Epoch 43/200\n",
            "3125/3125 [==============================] - 17s 5ms/step - loss: 0.0134\n",
            "Epoch 44/200\n",
            "3125/3125 [==============================] - 17s 5ms/step - loss: 0.0128\n",
            "Epoch 45/200\n",
            "3125/3125 [==============================] - 17s 5ms/step - loss: 0.0129\n",
            "Epoch 46/200\n",
            "3125/3125 [==============================] - 17s 5ms/step - loss: 0.0138\n",
            "Epoch 47/200\n",
            "3125/3125 [==============================] - 17s 5ms/step - loss: 0.0125\n",
            "Epoch 48/200\n",
            "3125/3125 [==============================] - 17s 5ms/step - loss: 0.0121\n",
            "Epoch 49/200\n",
            "3125/3125 [==============================] - 17s 5ms/step - loss: 0.0127\n",
            "Epoch 50/200\n",
            "3125/3125 [==============================] - 17s 5ms/step - loss: 0.0117\n",
            "Epoch 51/200\n",
            "3125/3125 [==============================] - 18s 6ms/step - loss: 0.0119\n",
            "Epoch 52/200\n",
            "3125/3125 [==============================] - 17s 5ms/step - loss: 0.0110\n",
            "Epoch 53/200\n",
            "3125/3125 [==============================] - 17s 6ms/step - loss: 0.0114\n",
            "Epoch 54/200\n",
            "3125/3125 [==============================] - 17s 5ms/step - loss: 0.0111\n",
            "Epoch 55/200\n",
            "3125/3125 [==============================] - 17s 5ms/step - loss: 0.0116\n",
            "Epoch 56/200\n",
            "3125/3125 [==============================] - 17s 5ms/step - loss: 0.0111\n",
            "Epoch 57/200\n",
            "3125/3125 [==============================] - 17s 5ms/step - loss: 0.0099\n",
            "Epoch 58/200\n",
            "3125/3125 [==============================] - 17s 5ms/step - loss: 0.0115\n",
            "Epoch 59/200\n",
            "3125/3125 [==============================] - 17s 6ms/step - loss: 0.0103\n",
            "Epoch 60/200\n",
            "3125/3125 [==============================] - 18s 6ms/step - loss: 0.0097\n",
            "Epoch 61/200\n",
            "3125/3125 [==============================] - 17s 5ms/step - loss: 0.0096\n",
            "Epoch 62/200\n",
            "3125/3125 [==============================] - 24s 8ms/step - loss: 0.0104\n",
            "Epoch 63/200\n",
            "3125/3125 [==============================] - 21s 7ms/step - loss: 0.0100\n",
            "Epoch 64/200\n",
            "3125/3125 [==============================] - 17s 5ms/step - loss: 0.0094\n",
            "Epoch 65/200\n",
            "3125/3125 [==============================] - 17s 6ms/step - loss: 0.0096\n",
            "Epoch 66/200\n",
            "3125/3125 [==============================] - 21s 7ms/step - loss: 0.0097\n",
            "Epoch 67/200\n",
            "3125/3125 [==============================] - 19s 6ms/step - loss: 0.0088\n",
            "Epoch 68/200\n",
            "3125/3125 [==============================] - 21s 7ms/step - loss: 0.0094\n",
            "Epoch 69/200\n",
            "3125/3125 [==============================] - 24s 8ms/step - loss: 0.0100\n",
            "Epoch 70/200\n",
            "3125/3125 [==============================] - 18s 6ms/step - loss: 0.0088\n",
            "Epoch 71/200\n",
            "3125/3125 [==============================] - 21s 7ms/step - loss: 0.0083\n",
            "Epoch 72/200\n",
            "3125/3125 [==============================] - 21s 7ms/step - loss: 0.0084\n",
            "Epoch 73/200\n",
            "3125/3125 [==============================] - 20s 6ms/step - loss: 0.0100\n",
            "Epoch 74/200\n",
            "3125/3125 [==============================] - 20s 6ms/step - loss: 0.0090\n",
            "Epoch 75/200\n",
            "3125/3125 [==============================] - 17s 5ms/step - loss: 0.0083\n",
            "Epoch 76/200\n",
            "3125/3125 [==============================] - 17s 5ms/step - loss: 0.0080\n",
            "Epoch 77/200\n",
            "3125/3125 [==============================] - 18s 6ms/step - loss: 0.0073\n",
            "Epoch 78/200\n",
            "3125/3125 [==============================] - 17s 5ms/step - loss: 0.0081\n",
            "Epoch 79/200\n",
            "3125/3125 [==============================] - 17s 5ms/step - loss: 0.0094\n",
            "Epoch 80/200\n",
            "3125/3125 [==============================] - 17s 5ms/step - loss: 0.0078\n",
            "Epoch 81/200\n",
            "3125/3125 [==============================] - 17s 5ms/step - loss: 0.0078\n",
            "Epoch 82/200\n",
            "3125/3125 [==============================] - 17s 6ms/step - loss: 0.0074\n",
            "Epoch 83/200\n",
            "3125/3125 [==============================] - 17s 5ms/step - loss: 0.0076\n",
            "Epoch 84/200\n",
            "3125/3125 [==============================] - 17s 5ms/step - loss: 0.0076\n",
            "Epoch 85/200\n",
            "3125/3125 [==============================] - 17s 5ms/step - loss: 0.0073\n",
            "Epoch 86/200\n",
            "3125/3125 [==============================] - 17s 5ms/step - loss: 0.0074\n",
            "Epoch 87/200\n",
            "3125/3125 [==============================] - 18s 6ms/step - loss: 0.0075\n",
            "Epoch 88/200\n",
            "3125/3125 [==============================] - 17s 5ms/step - loss: 0.0072\n",
            "Epoch 89/200\n",
            "3125/3125 [==============================] - 17s 5ms/step - loss: 0.0070\n",
            "Epoch 90/200\n",
            "3125/3125 [==============================] - 17s 5ms/step - loss: 0.0067\n",
            "Epoch 91/200\n",
            "3125/3125 [==============================] - 17s 5ms/step - loss: 0.0073\n",
            "Epoch 92/200\n",
            "3125/3125 [==============================] - 17s 5ms/step - loss: 0.0071\n",
            "Epoch 93/200\n",
            "3125/3125 [==============================] - 17s 5ms/step - loss: 0.0072\n",
            "Epoch 94/200\n",
            "3125/3125 [==============================] - 17s 5ms/step - loss: 0.0078\n",
            "Epoch 95/200\n",
            "3125/3125 [==============================] - 17s 5ms/step - loss: 0.0077\n",
            "Epoch 96/200\n",
            "3125/3125 [==============================] - 18s 6ms/step - loss: 0.0076\n",
            "Epoch 97/200\n",
            "3125/3125 [==============================] - 17s 5ms/step - loss: 0.0073\n",
            "Epoch 98/200\n",
            "3125/3125 [==============================] - 17s 5ms/step - loss: 0.0078\n",
            "Epoch 99/200\n",
            "3125/3125 [==============================] - 17s 5ms/step - loss: 0.0071\n",
            "Epoch 100/200\n",
            "3125/3125 [==============================] - 17s 5ms/step - loss: 0.0068\n",
            "Epoch 101/200\n",
            "3125/3125 [==============================] - 17s 5ms/step - loss: 0.0065\n",
            "Epoch 102/200\n",
            "3125/3125 [==============================] - 17s 5ms/step - loss: 0.0065\n",
            "Epoch 103/200\n",
            "3125/3125 [==============================] - 17s 5ms/step - loss: 0.0068\n",
            "Epoch 104/200\n",
            "3125/3125 [==============================] - 17s 5ms/step - loss: 0.0063\n",
            "Epoch 105/200\n",
            "3125/3125 [==============================] - 17s 5ms/step - loss: 0.0058\n",
            "Epoch 106/200\n",
            "3125/3125 [==============================] - 18s 6ms/step - loss: 0.0065\n",
            "Epoch 107/200\n",
            "3125/3125 [==============================] - 17s 5ms/step - loss: 0.0066\n",
            "Epoch 108/200\n",
            "3125/3125 [==============================] - 17s 5ms/step - loss: 0.0062\n",
            "Epoch 109/200\n",
            "3125/3125 [==============================] - 17s 5ms/step - loss: 0.0060\n",
            "Epoch 110/200\n",
            "3125/3125 [==============================] - 17s 5ms/step - loss: 0.0064\n",
            "Epoch 111/200\n",
            "3125/3125 [==============================] - 17s 5ms/step - loss: 0.0067\n",
            "Epoch 112/200\n",
            "3125/3125 [==============================] - 17s 5ms/step - loss: 0.0056\n",
            "Epoch 113/200\n",
            "3125/3125 [==============================] - 17s 5ms/step - loss: 0.0057\n",
            "Epoch 114/200\n",
            "3125/3125 [==============================] - 17s 5ms/step - loss: 0.0059\n",
            "Epoch 115/200\n",
            "3125/3125 [==============================] - 18s 6ms/step - loss: 0.0059\n",
            "Epoch 116/200\n",
            "3125/3125 [==============================] - 17s 5ms/step - loss: 0.0057\n",
            "Epoch 117/200\n",
            "3125/3125 [==============================] - 17s 5ms/step - loss: 0.0068\n",
            "Epoch 118/200\n",
            "3125/3125 [==============================] - 17s 5ms/step - loss: 0.0056\n",
            "Epoch 119/200\n",
            "3125/3125 [==============================] - 17s 5ms/step - loss: 0.0056\n",
            "Epoch 120/200\n",
            "3125/3125 [==============================] - 17s 5ms/step - loss: 0.0058\n",
            "Epoch 121/200\n",
            "3125/3125 [==============================] - 17s 5ms/step - loss: 0.0057\n",
            "Epoch 122/200\n",
            "3125/3125 [==============================] - 17s 5ms/step - loss: 0.0060\n",
            "Epoch 123/200\n",
            "3125/3125 [==============================] - 17s 5ms/step - loss: 0.0057\n",
            "Epoch 124/200\n",
            "3125/3125 [==============================] - 17s 5ms/step - loss: 0.0058\n",
            "Epoch 125/200\n",
            "3125/3125 [==============================] - 18s 6ms/step - loss: 0.0056\n",
            "Epoch 126/200\n",
            "3125/3125 [==============================] - 17s 5ms/step - loss: 0.0061\n",
            "Epoch 127/200\n",
            "3125/3125 [==============================] - 17s 5ms/step - loss: 0.0061\n",
            "Epoch 128/200\n",
            "3125/3125 [==============================] - 17s 5ms/step - loss: 0.0052\n",
            "Epoch 129/200\n",
            "3125/3125 [==============================] - 16s 5ms/step - loss: 0.0055\n",
            "Epoch 130/200\n",
            "3125/3125 [==============================] - 17s 5ms/step - loss: 0.0065\n",
            "Epoch 131/200\n",
            "3125/3125 [==============================] - 17s 5ms/step - loss: 0.0058\n",
            "Epoch 132/200\n",
            "3125/3125 [==============================] - 17s 5ms/step - loss: 0.0060\n",
            "Epoch 133/200\n",
            "3125/3125 [==============================] - 17s 5ms/step - loss: 0.0054\n",
            "Epoch 134/200\n",
            "3125/3125 [==============================] - 17s 6ms/step - loss: 0.0056\n",
            "Epoch 135/200\n",
            "3125/3125 [==============================] - 17s 5ms/step - loss: 0.0056\n",
            "Epoch 136/200\n",
            "3125/3125 [==============================] - 16s 5ms/step - loss: 0.0053\n",
            "Epoch 137/200\n",
            "3125/3125 [==============================] - 17s 5ms/step - loss: 0.0057\n",
            "Epoch 138/200\n",
            "3125/3125 [==============================] - 17s 5ms/step - loss: 0.0058\n",
            "Epoch 139/200\n",
            "3125/3125 [==============================] - 17s 5ms/step - loss: 0.0055\n",
            "Epoch 140/200\n",
            "3125/3125 [==============================] - 17s 5ms/step - loss: 0.0055\n",
            "Epoch 141/200\n",
            "3125/3125 [==============================] - 17s 5ms/step - loss: 0.0052\n",
            "Epoch 142/200\n",
            "3125/3125 [==============================] - 17s 5ms/step - loss: 0.0060\n",
            "Epoch 143/200\n",
            "3125/3125 [==============================] - 17s 5ms/step - loss: 0.0058\n",
            "Epoch 144/200\n",
            "3125/3125 [==============================] - 18s 6ms/step - loss: 0.0054\n",
            "Epoch 145/200\n",
            "3125/3125 [==============================] - 17s 5ms/step - loss: 0.0051\n",
            "Epoch 146/200\n",
            "3125/3125 [==============================] - 17s 5ms/step - loss: 0.0055\n",
            "Epoch 147/200\n",
            "3125/3125 [==============================] - 17s 5ms/step - loss: 0.0063\n",
            "Epoch 148/200\n",
            "3125/3125 [==============================] - 17s 5ms/step - loss: 0.0051\n",
            "Epoch 149/200\n",
            "3125/3125 [==============================] - 17s 5ms/step - loss: 0.0054\n",
            "Epoch 150/200\n",
            "3125/3125 [==============================] - 17s 5ms/step - loss: 0.0059\n",
            "Epoch 151/200\n",
            "3125/3125 [==============================] - 17s 5ms/step - loss: 0.0053\n",
            "Epoch 152/200\n",
            "3125/3125 [==============================] - 17s 5ms/step - loss: 0.0048\n",
            "Epoch 153/200\n",
            "3125/3125 [==============================] - 17s 5ms/step - loss: 0.0080\n",
            "Epoch 154/200\n",
            "3125/3125 [==============================] - 18s 6ms/step - loss: 0.0053\n",
            "Epoch 155/200\n",
            "3125/3125 [==============================] - 17s 5ms/step - loss: 0.0054\n",
            "Epoch 156/200\n",
            "3125/3125 [==============================] - 17s 5ms/step - loss: 0.0052\n",
            "Epoch 157/200\n",
            "3125/3125 [==============================] - 17s 5ms/step - loss: 0.0055\n",
            "Epoch 158/200\n",
            "3125/3125 [==============================] - 17s 5ms/step - loss: 0.0056\n",
            "Epoch 159/200\n",
            "3125/3125 [==============================] - 17s 5ms/step - loss: 0.0051\n",
            "Epoch 160/200\n",
            "3125/3125 [==============================] - 17s 5ms/step - loss: 0.0056\n",
            "Epoch 161/200\n",
            "3125/3125 [==============================] - 17s 5ms/step - loss: 0.0058\n",
            "Epoch 162/200\n",
            "3125/3125 [==============================] - 17s 5ms/step - loss: 0.0054\n",
            "Epoch 163/200\n",
            "3125/3125 [==============================] - 18s 6ms/step - loss: 0.0052\n",
            "Epoch 164/200\n",
            "3125/3125 [==============================] - 17s 5ms/step - loss: 0.0058\n",
            "Epoch 165/200\n",
            "3125/3125 [==============================] - 17s 5ms/step - loss: 0.0052\n",
            "Epoch 166/200\n",
            "3125/3125 [==============================] - 17s 5ms/step - loss: 0.0050\n",
            "Epoch 167/200\n",
            "3125/3125 [==============================] - 17s 5ms/step - loss: 0.0051\n",
            "Epoch 168/200\n",
            "3125/3125 [==============================] - 17s 5ms/step - loss: 0.0050\n",
            "Epoch 169/200\n",
            "3125/3125 [==============================] - 17s 5ms/step - loss: 0.0054\n",
            "Epoch 170/200\n",
            "3125/3125 [==============================] - 17s 5ms/step - loss: 0.0051\n",
            "Epoch 171/200\n",
            "3125/3125 [==============================] - 17s 5ms/step - loss: 0.0054\n",
            "Epoch 172/200\n",
            "3125/3125 [==============================] - 17s 5ms/step - loss: 0.0050\n",
            "Epoch 173/200\n",
            "3125/3125 [==============================] - 18s 6ms/step - loss: 0.0052\n",
            "Epoch 174/200\n",
            "3125/3125 [==============================] - 17s 5ms/step - loss: 0.0047\n",
            "Epoch 175/200\n",
            "3125/3125 [==============================] - 17s 5ms/step - loss: 0.0052\n",
            "Epoch 176/200\n",
            " 440/3125 [===>..........................] - ETA: 14s - loss: 0.0049"
          ]
        },
        {
          "output_type": "error",
          "ename": "KeyboardInterrupt",
          "evalue": "ignored",
          "traceback": [
            "\u001b[0;31m---------------------------------------------------------------------------\u001b[0m",
            "\u001b[0;31mKeyboardInterrupt\u001b[0m                         Traceback (most recent call last)",
            "\u001b[0;32m<ipython-input-26-11df359adb6b>\u001b[0m in \u001b[0;36m<module>\u001b[0;34m\u001b[0m\n\u001b[1;32m      1\u001b[0m \u001b[0;31m# fit model\u001b[0m\u001b[0;34m\u001b[0m\u001b[0;34m\u001b[0m\u001b[0;34m\u001b[0m\u001b[0m\n\u001b[0;32m----> 2\u001b[0;31m \u001b[0mLSTM_synth_model\u001b[0m\u001b[0;34m.\u001b[0m\u001b[0mfit\u001b[0m\u001b[0;34m(\u001b[0m\u001b[0msynth_train_x\u001b[0m\u001b[0;34m,\u001b[0m \u001b[0msynth_train_y\u001b[0m\u001b[0;34m,\u001b[0m \u001b[0mepochs\u001b[0m \u001b[0;34m=\u001b[0m \u001b[0;36m200\u001b[0m\u001b[0;34m,\u001b[0m \u001b[0mverbose\u001b[0m \u001b[0;34m=\u001b[0m \u001b[0;36m1\u001b[0m\u001b[0;34m)\u001b[0m\u001b[0;34m\u001b[0m\u001b[0;34m\u001b[0m\u001b[0m\n\u001b[0m",
            "\u001b[0;32m/usr/local/lib/python3.8/dist-packages/keras/utils/traceback_utils.py\u001b[0m in \u001b[0;36merror_handler\u001b[0;34m(*args, **kwargs)\u001b[0m\n\u001b[1;32m     62\u001b[0m     \u001b[0mfiltered_tb\u001b[0m \u001b[0;34m=\u001b[0m \u001b[0;32mNone\u001b[0m\u001b[0;34m\u001b[0m\u001b[0;34m\u001b[0m\u001b[0m\n\u001b[1;32m     63\u001b[0m     \u001b[0;32mtry\u001b[0m\u001b[0;34m:\u001b[0m\u001b[0;34m\u001b[0m\u001b[0;34m\u001b[0m\u001b[0m\n\u001b[0;32m---> 64\u001b[0;31m       \u001b[0;32mreturn\u001b[0m \u001b[0mfn\u001b[0m\u001b[0;34m(\u001b[0m\u001b[0;34m*\u001b[0m\u001b[0margs\u001b[0m\u001b[0;34m,\u001b[0m \u001b[0;34m**\u001b[0m\u001b[0mkwargs\u001b[0m\u001b[0;34m)\u001b[0m\u001b[0;34m\u001b[0m\u001b[0;34m\u001b[0m\u001b[0m\n\u001b[0m\u001b[1;32m     65\u001b[0m     \u001b[0;32mexcept\u001b[0m \u001b[0mException\u001b[0m \u001b[0;32mas\u001b[0m \u001b[0me\u001b[0m\u001b[0;34m:\u001b[0m  \u001b[0;31m# pylint: disable=broad-except\u001b[0m\u001b[0;34m\u001b[0m\u001b[0;34m\u001b[0m\u001b[0m\n\u001b[1;32m     66\u001b[0m       \u001b[0mfiltered_tb\u001b[0m \u001b[0;34m=\u001b[0m \u001b[0m_process_traceback_frames\u001b[0m\u001b[0;34m(\u001b[0m\u001b[0me\u001b[0m\u001b[0;34m.\u001b[0m\u001b[0m__traceback__\u001b[0m\u001b[0;34m)\u001b[0m\u001b[0;34m\u001b[0m\u001b[0;34m\u001b[0m\u001b[0m\n",
            "\u001b[0;32m/usr/local/lib/python3.8/dist-packages/keras/engine/training.py\u001b[0m in \u001b[0;36mfit\u001b[0;34m(self, x, y, batch_size, epochs, verbose, callbacks, validation_split, validation_data, shuffle, class_weight, sample_weight, initial_epoch, steps_per_epoch, validation_steps, validation_batch_size, validation_freq, max_queue_size, workers, use_multiprocessing)\u001b[0m\n\u001b[1;32m   1412\u001b[0m               \u001b[0mlogs\u001b[0m \u001b[0;34m=\u001b[0m \u001b[0mtmp_logs\u001b[0m  \u001b[0;31m# No error, now safe to assign to logs.\u001b[0m\u001b[0;34m\u001b[0m\u001b[0;34m\u001b[0m\u001b[0m\n\u001b[1;32m   1413\u001b[0m               \u001b[0mend_step\u001b[0m \u001b[0;34m=\u001b[0m \u001b[0mstep\u001b[0m \u001b[0;34m+\u001b[0m \u001b[0mdata_handler\u001b[0m\u001b[0;34m.\u001b[0m\u001b[0mstep_increment\u001b[0m\u001b[0;34m\u001b[0m\u001b[0;34m\u001b[0m\u001b[0m\n\u001b[0;32m-> 1414\u001b[0;31m               \u001b[0mcallbacks\u001b[0m\u001b[0;34m.\u001b[0m\u001b[0mon_train_batch_end\u001b[0m\u001b[0;34m(\u001b[0m\u001b[0mend_step\u001b[0m\u001b[0;34m,\u001b[0m \u001b[0mlogs\u001b[0m\u001b[0;34m)\u001b[0m\u001b[0;34m\u001b[0m\u001b[0;34m\u001b[0m\u001b[0m\n\u001b[0m\u001b[1;32m   1415\u001b[0m               \u001b[0;32mif\u001b[0m \u001b[0mself\u001b[0m\u001b[0;34m.\u001b[0m\u001b[0mstop_training\u001b[0m\u001b[0;34m:\u001b[0m\u001b[0;34m\u001b[0m\u001b[0;34m\u001b[0m\u001b[0m\n\u001b[1;32m   1416\u001b[0m                 \u001b[0;32mbreak\u001b[0m\u001b[0;34m\u001b[0m\u001b[0;34m\u001b[0m\u001b[0m\n",
            "\u001b[0;32m/usr/local/lib/python3.8/dist-packages/keras/callbacks.py\u001b[0m in \u001b[0;36mon_train_batch_end\u001b[0;34m(self, batch, logs)\u001b[0m\n\u001b[1;32m    436\u001b[0m     \"\"\"\n\u001b[1;32m    437\u001b[0m     \u001b[0;32mif\u001b[0m \u001b[0mself\u001b[0m\u001b[0;34m.\u001b[0m\u001b[0m_should_call_train_batch_hooks\u001b[0m\u001b[0;34m:\u001b[0m\u001b[0;34m\u001b[0m\u001b[0;34m\u001b[0m\u001b[0m\n\u001b[0;32m--> 438\u001b[0;31m       \u001b[0mself\u001b[0m\u001b[0;34m.\u001b[0m\u001b[0m_call_batch_hook\u001b[0m\u001b[0;34m(\u001b[0m\u001b[0mModeKeys\u001b[0m\u001b[0;34m.\u001b[0m\u001b[0mTRAIN\u001b[0m\u001b[0;34m,\u001b[0m \u001b[0;34m'end'\u001b[0m\u001b[0;34m,\u001b[0m \u001b[0mbatch\u001b[0m\u001b[0;34m,\u001b[0m \u001b[0mlogs\u001b[0m\u001b[0;34m=\u001b[0m\u001b[0mlogs\u001b[0m\u001b[0;34m)\u001b[0m\u001b[0;34m\u001b[0m\u001b[0;34m\u001b[0m\u001b[0m\n\u001b[0m\u001b[1;32m    439\u001b[0m \u001b[0;34m\u001b[0m\u001b[0m\n\u001b[1;32m    440\u001b[0m   \u001b[0;32mdef\u001b[0m \u001b[0mon_test_batch_begin\u001b[0m\u001b[0;34m(\u001b[0m\u001b[0mself\u001b[0m\u001b[0;34m,\u001b[0m \u001b[0mbatch\u001b[0m\u001b[0;34m,\u001b[0m \u001b[0mlogs\u001b[0m\u001b[0;34m=\u001b[0m\u001b[0;32mNone\u001b[0m\u001b[0;34m)\u001b[0m\u001b[0;34m:\u001b[0m\u001b[0;34m\u001b[0m\u001b[0;34m\u001b[0m\u001b[0m\n",
            "\u001b[0;32m/usr/local/lib/python3.8/dist-packages/keras/callbacks.py\u001b[0m in \u001b[0;36m_call_batch_hook\u001b[0;34m(self, mode, hook, batch, logs)\u001b[0m\n\u001b[1;32m    295\u001b[0m       \u001b[0mself\u001b[0m\u001b[0;34m.\u001b[0m\u001b[0m_call_batch_begin_hook\u001b[0m\u001b[0;34m(\u001b[0m\u001b[0mmode\u001b[0m\u001b[0;34m,\u001b[0m \u001b[0mbatch\u001b[0m\u001b[0;34m,\u001b[0m \u001b[0mlogs\u001b[0m\u001b[0;34m)\u001b[0m\u001b[0;34m\u001b[0m\u001b[0;34m\u001b[0m\u001b[0m\n\u001b[1;32m    296\u001b[0m     \u001b[0;32melif\u001b[0m \u001b[0mhook\u001b[0m \u001b[0;34m==\u001b[0m \u001b[0;34m'end'\u001b[0m\u001b[0;34m:\u001b[0m\u001b[0;34m\u001b[0m\u001b[0;34m\u001b[0m\u001b[0m\n\u001b[0;32m--> 297\u001b[0;31m       \u001b[0mself\u001b[0m\u001b[0;34m.\u001b[0m\u001b[0m_call_batch_end_hook\u001b[0m\u001b[0;34m(\u001b[0m\u001b[0mmode\u001b[0m\u001b[0;34m,\u001b[0m \u001b[0mbatch\u001b[0m\u001b[0;34m,\u001b[0m \u001b[0mlogs\u001b[0m\u001b[0;34m)\u001b[0m\u001b[0;34m\u001b[0m\u001b[0;34m\u001b[0m\u001b[0m\n\u001b[0m\u001b[1;32m    298\u001b[0m     \u001b[0;32melse\u001b[0m\u001b[0;34m:\u001b[0m\u001b[0;34m\u001b[0m\u001b[0;34m\u001b[0m\u001b[0m\n\u001b[1;32m    299\u001b[0m       raise ValueError(\n",
            "\u001b[0;32m/usr/local/lib/python3.8/dist-packages/keras/callbacks.py\u001b[0m in \u001b[0;36m_call_batch_end_hook\u001b[0;34m(self, mode, batch, logs)\u001b[0m\n\u001b[1;32m    316\u001b[0m       \u001b[0mself\u001b[0m\u001b[0;34m.\u001b[0m\u001b[0m_batch_times\u001b[0m\u001b[0;34m.\u001b[0m\u001b[0mappend\u001b[0m\u001b[0;34m(\u001b[0m\u001b[0mbatch_time\u001b[0m\u001b[0;34m)\u001b[0m\u001b[0;34m\u001b[0m\u001b[0;34m\u001b[0m\u001b[0m\n\u001b[1;32m    317\u001b[0m \u001b[0;34m\u001b[0m\u001b[0m\n\u001b[0;32m--> 318\u001b[0;31m     \u001b[0mself\u001b[0m\u001b[0;34m.\u001b[0m\u001b[0m_call_batch_hook_helper\u001b[0m\u001b[0;34m(\u001b[0m\u001b[0mhook_name\u001b[0m\u001b[0;34m,\u001b[0m \u001b[0mbatch\u001b[0m\u001b[0;34m,\u001b[0m \u001b[0mlogs\u001b[0m\u001b[0;34m)\u001b[0m\u001b[0;34m\u001b[0m\u001b[0;34m\u001b[0m\u001b[0m\n\u001b[0m\u001b[1;32m    319\u001b[0m \u001b[0;34m\u001b[0m\u001b[0m\n\u001b[1;32m    320\u001b[0m     \u001b[0;32mif\u001b[0m \u001b[0mlen\u001b[0m\u001b[0;34m(\u001b[0m\u001b[0mself\u001b[0m\u001b[0;34m.\u001b[0m\u001b[0m_batch_times\u001b[0m\u001b[0;34m)\u001b[0m \u001b[0;34m>=\u001b[0m \u001b[0mself\u001b[0m\u001b[0;34m.\u001b[0m\u001b[0m_num_batches_for_timing_check\u001b[0m\u001b[0;34m:\u001b[0m\u001b[0;34m\u001b[0m\u001b[0;34m\u001b[0m\u001b[0m\n",
            "\u001b[0;32m/usr/local/lib/python3.8/dist-packages/keras/callbacks.py\u001b[0m in \u001b[0;36m_call_batch_hook_helper\u001b[0;34m(self, hook_name, batch, logs)\u001b[0m\n\u001b[1;32m    354\u001b[0m     \u001b[0;32mfor\u001b[0m \u001b[0mcallback\u001b[0m \u001b[0;32min\u001b[0m \u001b[0mself\u001b[0m\u001b[0;34m.\u001b[0m\u001b[0mcallbacks\u001b[0m\u001b[0;34m:\u001b[0m\u001b[0;34m\u001b[0m\u001b[0;34m\u001b[0m\u001b[0m\n\u001b[1;32m    355\u001b[0m       \u001b[0mhook\u001b[0m \u001b[0;34m=\u001b[0m \u001b[0mgetattr\u001b[0m\u001b[0;34m(\u001b[0m\u001b[0mcallback\u001b[0m\u001b[0;34m,\u001b[0m \u001b[0mhook_name\u001b[0m\u001b[0;34m)\u001b[0m\u001b[0;34m\u001b[0m\u001b[0;34m\u001b[0m\u001b[0m\n\u001b[0;32m--> 356\u001b[0;31m       \u001b[0mhook\u001b[0m\u001b[0;34m(\u001b[0m\u001b[0mbatch\u001b[0m\u001b[0;34m,\u001b[0m \u001b[0mlogs\u001b[0m\u001b[0;34m)\u001b[0m\u001b[0;34m\u001b[0m\u001b[0;34m\u001b[0m\u001b[0m\n\u001b[0m\u001b[1;32m    357\u001b[0m \u001b[0;34m\u001b[0m\u001b[0m\n\u001b[1;32m    358\u001b[0m     \u001b[0;32mif\u001b[0m \u001b[0mself\u001b[0m\u001b[0;34m.\u001b[0m\u001b[0m_check_timing\u001b[0m\u001b[0;34m:\u001b[0m\u001b[0;34m\u001b[0m\u001b[0;34m\u001b[0m\u001b[0m\n",
            "\u001b[0;32m/usr/local/lib/python3.8/dist-packages/keras/callbacks.py\u001b[0m in \u001b[0;36mon_train_batch_end\u001b[0;34m(self, batch, logs)\u001b[0m\n\u001b[1;32m   1032\u001b[0m \u001b[0;34m\u001b[0m\u001b[0m\n\u001b[1;32m   1033\u001b[0m   \u001b[0;32mdef\u001b[0m \u001b[0mon_train_batch_end\u001b[0m\u001b[0;34m(\u001b[0m\u001b[0mself\u001b[0m\u001b[0;34m,\u001b[0m \u001b[0mbatch\u001b[0m\u001b[0;34m,\u001b[0m \u001b[0mlogs\u001b[0m\u001b[0;34m=\u001b[0m\u001b[0;32mNone\u001b[0m\u001b[0;34m)\u001b[0m\u001b[0;34m:\u001b[0m\u001b[0;34m\u001b[0m\u001b[0;34m\u001b[0m\u001b[0m\n\u001b[0;32m-> 1034\u001b[0;31m     \u001b[0mself\u001b[0m\u001b[0;34m.\u001b[0m\u001b[0m_batch_update_progbar\u001b[0m\u001b[0;34m(\u001b[0m\u001b[0mbatch\u001b[0m\u001b[0;34m,\u001b[0m \u001b[0mlogs\u001b[0m\u001b[0;34m)\u001b[0m\u001b[0;34m\u001b[0m\u001b[0;34m\u001b[0m\u001b[0m\n\u001b[0m\u001b[1;32m   1035\u001b[0m \u001b[0;34m\u001b[0m\u001b[0m\n\u001b[1;32m   1036\u001b[0m   \u001b[0;32mdef\u001b[0m \u001b[0mon_test_batch_end\u001b[0m\u001b[0;34m(\u001b[0m\u001b[0mself\u001b[0m\u001b[0;34m,\u001b[0m \u001b[0mbatch\u001b[0m\u001b[0;34m,\u001b[0m \u001b[0mlogs\u001b[0m\u001b[0;34m=\u001b[0m\u001b[0;32mNone\u001b[0m\u001b[0;34m)\u001b[0m\u001b[0;34m:\u001b[0m\u001b[0;34m\u001b[0m\u001b[0;34m\u001b[0m\u001b[0m\n",
            "\u001b[0;32m/usr/local/lib/python3.8/dist-packages/keras/callbacks.py\u001b[0m in \u001b[0;36m_batch_update_progbar\u001b[0;34m(self, batch, logs)\u001b[0m\n\u001b[1;32m   1105\u001b[0m       \u001b[0;31m# Only block async when verbose = 1.\u001b[0m\u001b[0;34m\u001b[0m\u001b[0;34m\u001b[0m\u001b[0;34m\u001b[0m\u001b[0m\n\u001b[1;32m   1106\u001b[0m       \u001b[0mlogs\u001b[0m \u001b[0;34m=\u001b[0m \u001b[0mtf_utils\u001b[0m\u001b[0;34m.\u001b[0m\u001b[0msync_to_numpy_or_python_type\u001b[0m\u001b[0;34m(\u001b[0m\u001b[0mlogs\u001b[0m\u001b[0;34m)\u001b[0m\u001b[0;34m\u001b[0m\u001b[0;34m\u001b[0m\u001b[0m\n\u001b[0;32m-> 1107\u001b[0;31m       \u001b[0mself\u001b[0m\u001b[0;34m.\u001b[0m\u001b[0mprogbar\u001b[0m\u001b[0;34m.\u001b[0m\u001b[0mupdate\u001b[0m\u001b[0;34m(\u001b[0m\u001b[0mself\u001b[0m\u001b[0;34m.\u001b[0m\u001b[0mseen\u001b[0m\u001b[0;34m,\u001b[0m \u001b[0mlist\u001b[0m\u001b[0;34m(\u001b[0m\u001b[0mlogs\u001b[0m\u001b[0;34m.\u001b[0m\u001b[0mitems\u001b[0m\u001b[0;34m(\u001b[0m\u001b[0;34m)\u001b[0m\u001b[0;34m)\u001b[0m\u001b[0;34m,\u001b[0m \u001b[0mfinalize\u001b[0m\u001b[0;34m=\u001b[0m\u001b[0;32mFalse\u001b[0m\u001b[0;34m)\u001b[0m\u001b[0;34m\u001b[0m\u001b[0;34m\u001b[0m\u001b[0m\n\u001b[0m\u001b[1;32m   1108\u001b[0m \u001b[0;34m\u001b[0m\u001b[0m\n\u001b[1;32m   1109\u001b[0m   \u001b[0;32mdef\u001b[0m \u001b[0m_finalize_progbar\u001b[0m\u001b[0;34m(\u001b[0m\u001b[0mself\u001b[0m\u001b[0;34m,\u001b[0m \u001b[0mlogs\u001b[0m\u001b[0;34m,\u001b[0m \u001b[0mcounter\u001b[0m\u001b[0;34m)\u001b[0m\u001b[0;34m:\u001b[0m\u001b[0;34m\u001b[0m\u001b[0;34m\u001b[0m\u001b[0m\n",
            "\u001b[0;32m/usr/local/lib/python3.8/dist-packages/keras/utils/generic_utils.py\u001b[0m in \u001b[0;36mupdate\u001b[0;34m(self, current, values, finalize)\u001b[0m\n\u001b[1;32m    974\u001b[0m \u001b[0;34m\u001b[0m\u001b[0m\n\u001b[1;32m    975\u001b[0m       \u001b[0mmessage\u001b[0m \u001b[0;34m+=\u001b[0m \u001b[0minfo\u001b[0m\u001b[0;34m\u001b[0m\u001b[0;34m\u001b[0m\u001b[0m\n\u001b[0;32m--> 976\u001b[0;31m       \u001b[0mio_utils\u001b[0m\u001b[0;34m.\u001b[0m\u001b[0mprint_msg\u001b[0m\u001b[0;34m(\u001b[0m\u001b[0mmessage\u001b[0m\u001b[0;34m,\u001b[0m \u001b[0mline_break\u001b[0m\u001b[0;34m=\u001b[0m\u001b[0;32mFalse\u001b[0m\u001b[0;34m)\u001b[0m\u001b[0;34m\u001b[0m\u001b[0;34m\u001b[0m\u001b[0m\n\u001b[0m\u001b[1;32m    977\u001b[0m       \u001b[0mmessage\u001b[0m \u001b[0;34m=\u001b[0m \u001b[0;34m''\u001b[0m\u001b[0;34m\u001b[0m\u001b[0;34m\u001b[0m\u001b[0m\n\u001b[1;32m    978\u001b[0m \u001b[0;34m\u001b[0m\u001b[0m\n",
            "\u001b[0;32m/usr/local/lib/python3.8/dist-packages/keras/utils/io_utils.py\u001b[0m in \u001b[0;36mprint_msg\u001b[0;34m(message, line_break)\u001b[0m\n\u001b[1;32m     76\u001b[0m     \u001b[0;32melse\u001b[0m\u001b[0;34m:\u001b[0m\u001b[0;34m\u001b[0m\u001b[0;34m\u001b[0m\u001b[0m\n\u001b[1;32m     77\u001b[0m       \u001b[0msys\u001b[0m\u001b[0;34m.\u001b[0m\u001b[0mstdout\u001b[0m\u001b[0;34m.\u001b[0m\u001b[0mwrite\u001b[0m\u001b[0;34m(\u001b[0m\u001b[0mmessage\u001b[0m\u001b[0;34m)\u001b[0m\u001b[0;34m\u001b[0m\u001b[0;34m\u001b[0m\u001b[0m\n\u001b[0;32m---> 78\u001b[0;31m     \u001b[0msys\u001b[0m\u001b[0;34m.\u001b[0m\u001b[0mstdout\u001b[0m\u001b[0;34m.\u001b[0m\u001b[0mflush\u001b[0m\u001b[0;34m(\u001b[0m\u001b[0;34m)\u001b[0m\u001b[0;34m\u001b[0m\u001b[0;34m\u001b[0m\u001b[0m\n\u001b[0m\u001b[1;32m     79\u001b[0m   \u001b[0;32melse\u001b[0m\u001b[0;34m:\u001b[0m\u001b[0;34m\u001b[0m\u001b[0;34m\u001b[0m\u001b[0m\n\u001b[1;32m     80\u001b[0m     \u001b[0mlogging\u001b[0m\u001b[0;34m.\u001b[0m\u001b[0minfo\u001b[0m\u001b[0;34m(\u001b[0m\u001b[0mmessage\u001b[0m\u001b[0;34m)\u001b[0m\u001b[0;34m\u001b[0m\u001b[0;34m\u001b[0m\u001b[0m\n",
            "\u001b[0;32m/usr/local/lib/python3.8/dist-packages/ipykernel/iostream.py\u001b[0m in \u001b[0;36mflush\u001b[0;34m(self)\u001b[0m\n\u001b[1;32m    350\u001b[0m                 \u001b[0mself\u001b[0m\u001b[0;34m.\u001b[0m\u001b[0mpub_thread\u001b[0m\u001b[0;34m.\u001b[0m\u001b[0mschedule\u001b[0m\u001b[0;34m(\u001b[0m\u001b[0mevt\u001b[0m\u001b[0;34m.\u001b[0m\u001b[0mset\u001b[0m\u001b[0;34m)\u001b[0m\u001b[0;34m\u001b[0m\u001b[0;34m\u001b[0m\u001b[0m\n\u001b[1;32m    351\u001b[0m                 \u001b[0;31m# and give a timeout to avoid\u001b[0m\u001b[0;34m\u001b[0m\u001b[0;34m\u001b[0m\u001b[0;34m\u001b[0m\u001b[0m\n\u001b[0;32m--> 352\u001b[0;31m                 \u001b[0;32mif\u001b[0m \u001b[0;32mnot\u001b[0m \u001b[0mevt\u001b[0m\u001b[0;34m.\u001b[0m\u001b[0mwait\u001b[0m\u001b[0;34m(\u001b[0m\u001b[0mself\u001b[0m\u001b[0;34m.\u001b[0m\u001b[0mflush_timeout\u001b[0m\u001b[0;34m)\u001b[0m\u001b[0;34m:\u001b[0m\u001b[0;34m\u001b[0m\u001b[0;34m\u001b[0m\u001b[0m\n\u001b[0m\u001b[1;32m    353\u001b[0m                     \u001b[0;31m# write directly to __stderr__ instead of warning because\u001b[0m\u001b[0;34m\u001b[0m\u001b[0;34m\u001b[0m\u001b[0;34m\u001b[0m\u001b[0m\n\u001b[1;32m    354\u001b[0m                     \u001b[0;31m# if this is happening sys.stderr may be the problem.\u001b[0m\u001b[0;34m\u001b[0m\u001b[0;34m\u001b[0m\u001b[0;34m\u001b[0m\u001b[0m\n",
            "\u001b[0;32m/usr/lib/python3.8/threading.py\u001b[0m in \u001b[0;36mwait\u001b[0;34m(self, timeout)\u001b[0m\n\u001b[1;32m    556\u001b[0m             \u001b[0msignaled\u001b[0m \u001b[0;34m=\u001b[0m \u001b[0mself\u001b[0m\u001b[0;34m.\u001b[0m\u001b[0m_flag\u001b[0m\u001b[0;34m\u001b[0m\u001b[0;34m\u001b[0m\u001b[0m\n\u001b[1;32m    557\u001b[0m             \u001b[0;32mif\u001b[0m \u001b[0;32mnot\u001b[0m \u001b[0msignaled\u001b[0m\u001b[0;34m:\u001b[0m\u001b[0;34m\u001b[0m\u001b[0;34m\u001b[0m\u001b[0m\n\u001b[0;32m--> 558\u001b[0;31m                 \u001b[0msignaled\u001b[0m \u001b[0;34m=\u001b[0m \u001b[0mself\u001b[0m\u001b[0;34m.\u001b[0m\u001b[0m_cond\u001b[0m\u001b[0;34m.\u001b[0m\u001b[0mwait\u001b[0m\u001b[0;34m(\u001b[0m\u001b[0mtimeout\u001b[0m\u001b[0;34m)\u001b[0m\u001b[0;34m\u001b[0m\u001b[0;34m\u001b[0m\u001b[0m\n\u001b[0m\u001b[1;32m    559\u001b[0m             \u001b[0;32mreturn\u001b[0m \u001b[0msignaled\u001b[0m\u001b[0;34m\u001b[0m\u001b[0;34m\u001b[0m\u001b[0m\n\u001b[1;32m    560\u001b[0m \u001b[0;34m\u001b[0m\u001b[0m\n",
            "\u001b[0;32m/usr/lib/python3.8/threading.py\u001b[0m in \u001b[0;36mwait\u001b[0;34m(self, timeout)\u001b[0m\n\u001b[1;32m    304\u001b[0m             \u001b[0;32melse\u001b[0m\u001b[0;34m:\u001b[0m\u001b[0;34m\u001b[0m\u001b[0;34m\u001b[0m\u001b[0m\n\u001b[1;32m    305\u001b[0m                 \u001b[0;32mif\u001b[0m \u001b[0mtimeout\u001b[0m \u001b[0;34m>\u001b[0m \u001b[0;36m0\u001b[0m\u001b[0;34m:\u001b[0m\u001b[0;34m\u001b[0m\u001b[0;34m\u001b[0m\u001b[0m\n\u001b[0;32m--> 306\u001b[0;31m                     \u001b[0mgotit\u001b[0m \u001b[0;34m=\u001b[0m \u001b[0mwaiter\u001b[0m\u001b[0;34m.\u001b[0m\u001b[0macquire\u001b[0m\u001b[0;34m(\u001b[0m\u001b[0;32mTrue\u001b[0m\u001b[0;34m,\u001b[0m \u001b[0mtimeout\u001b[0m\u001b[0;34m)\u001b[0m\u001b[0;34m\u001b[0m\u001b[0;34m\u001b[0m\u001b[0m\n\u001b[0m\u001b[1;32m    307\u001b[0m                 \u001b[0;32melse\u001b[0m\u001b[0;34m:\u001b[0m\u001b[0;34m\u001b[0m\u001b[0;34m\u001b[0m\u001b[0m\n\u001b[1;32m    308\u001b[0m                     \u001b[0mgotit\u001b[0m \u001b[0;34m=\u001b[0m \u001b[0mwaiter\u001b[0m\u001b[0;34m.\u001b[0m\u001b[0macquire\u001b[0m\u001b[0;34m(\u001b[0m\u001b[0;32mFalse\u001b[0m\u001b[0;34m)\u001b[0m\u001b[0;34m\u001b[0m\u001b[0;34m\u001b[0m\u001b[0m\n",
            "\u001b[0;31mKeyboardInterrupt\u001b[0m: "
          ]
        }
      ]
    },
    {
      "cell_type": "code",
      "source": [
        "# save model after training\n",
        "LSTM_synth_model.save(\"/content/drive/MyDrive/Synthetic_data/LSTM_synth_model\")"
      ],
      "metadata": {
        "id": "cy_5_QmSiVNc"
      },
      "execution_count": null,
      "outputs": []
    },
    {
      "cell_type": "code",
      "source": [
        "# forecast on test data (trained on synthetic data, but tested on real data)\n",
        "yhat_synth = LSTM_synth_model.predict(test_x, verbose=0)"
      ],
      "metadata": {
        "id": "Tfg4BvOkToUq"
      },
      "execution_count": 29,
      "outputs": []
    },
    {
      "cell_type": "code",
      "source": [
        "# create dataframe for comparing forecasts to actual\n",
        "LSTM_synth_compare = pd.concat([pd.DataFrame(yhat_synth), pd.DataFrame(test_y)], axis = 1)\n",
        "LSTM_synth_compare = pd.concat([date_compare, LSTM_synth_compare], axis = 1)\n",
        "LSTM_synth_compare.columns = ['date', 'DGS1_pred', 'DGS10_pred', 'DGS1_actual', 'DGS10_actual']\n",
        "\n",
        "# compute RMSE and MAPE for DGS1\n",
        "LSTM_synth_rmse = math.sqrt(mean_squared_error(LSTM_synth_compare['DGS1_actual'], LSTM_synth_compare['DGS1_pred']))\n",
        "LSTM_synth_mape = mean_absolute_percentage_error(LSTM_synth_compare['DGS1_actual'], LSTM_synth_compare['DGS1_pred'])*100\n",
        "print(f'RMSE: {LSTM_synth_rmse}')\n",
        "print(f'MAPE: {LSTM_synth_mape}')\n",
        "\n",
        "# plot results\n",
        "plt.plot(LSTM_synth_compare['date'], LSTM_synth_compare['DGS1_actual'], label = 'Actual')\n",
        "plt.plot(LSTM_synth_compare['date'], LSTM_synth_compare['DGS1_pred'], label = 'Forecast')\n",
        "plt.title('LSTM Synthetic Model Forecasting Performance - 1-year Rate')\n",
        "plt.legend()\n",
        "plt.xticks(rotation = 45)\n",
        "plt.show()"
      ],
      "metadata": {
        "colab": {
          "base_uri": "https://localhost:8080/",
          "height": 344
        },
        "id": "vBpVDggtT5Ap",
        "outputId": "279e4571-dade-4ac0-9e95-1c05b9eb25e0"
      },
      "execution_count": 32,
      "outputs": [
        {
          "output_type": "stream",
          "name": "stdout",
          "text": [
            "RMSE: 0.07855683261155784\n",
            "MAPE: 2.8510814262250443\n"
          ]
        },
        {
          "output_type": "display_data",
          "data": {
            "text/plain": [
              "<Figure size 432x288 with 1 Axes>"
            ],
            "image/png": "[encoded data removed]"
          },
          "metadata": {
            "needs_background": "light"
          }
        }
      ]
    }
  ]
}